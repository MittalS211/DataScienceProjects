{
 "cells": [
  {
   "cell_type": "code",
   "execution_count": 11,
   "metadata": {},
   "outputs": [],
   "source": [
    "'''1. a balance coin\n",
    "since coin is balanced both P(H) & P(T) are set at constant of .5'''\n",
    "def P(N):\n",
    "    return .5**N\n",
    "\n",
    "HTTH, HHHH, TTHH = 'HTTH', 'HHHH', 'TTHH'\n"
   ]
  },
  {
   "cell_type": "code",
   "execution_count": 12,
   "metadata": {},
   "outputs": [
    {
     "name": "stdout",
     "output_type": "stream",
     "text": [
      "0.0625 0.0625 0.0625\n"
     ]
    }
   ],
   "source": [
    "print(P(len(HTTH)), P(len(HHHH)), P(len(TTHH)))"
   ]
  },
  {
   "cell_type": "code",
   "execution_count": 15,
   "metadata": {},
   "outputs": [],
   "source": [
    "#2. P(not choosing a man)\n",
    "m = 21\n",
    "f = 24\n",
    "def P(N):\n",
    "    total = 45\n",
    "    return N/total\n",
    "def p(not_N):\n",
    "    return 1 - P(not_N)\n"
   ]
  },
  {
   "cell_type": "code",
   "execution_count": 18,
   "metadata": {},
   "outputs": [
    {
     "data": {
      "text/plain": [
       "True"
      ]
     },
     "execution_count": 18,
     "metadata": {},
     "output_type": "execute_result"
    }
   ],
   "source": [
    "P(f) == p(m)"
   ]
  },
  {
   "cell_type": "code",
   "execution_count": 22,
   "metadata": {},
   "outputs": [
    {
     "name": "stdout",
     "output_type": "stream",
     "text": [
      "5e-06 % likley that Bernice  will be in a plance crash in the next year\n"
     ]
    }
   ],
   "source": [
    "# P(Bernice in plance crash)\n",
    "def Bernice_plance_crash():\n",
    "    travel = .1\n",
    "    plane_crash = .00005\n",
    "    return travel*plane_crash\n",
    "\n",
    "print(Bernice_plance_crash(), '% likley that Bernice  will be in a plance crash in the next year')"
   ]
  },
  {
   "cell_type": "markdown",
   "metadata": {},
   "source": [
    "## sampling bias\n",
    "The data scientist is not accounting for selection bias. They are assuming that the users filling out the survey are representative of the user population. The users surveyed are those willing to be surveyed and thus the sample has a higher probability of being deviating from the general website userbase.\n",
    "\n",
    "Probability of being surveyed also increases with the number links clicked"
   ]
  },
  {
   "cell_type": "code",
   "execution_count": null,
   "metadata": {},
   "outputs": [],
   "source": []
  }
 ],
 "metadata": {
  "kernelspec": {
   "display_name": "Python 3",
   "language": "python",
   "name": "python3"
  },
  "language_info": {
   "codemirror_mode": {
    "name": "ipython",
    "version": 3
   },
   "file_extension": ".py",
   "mimetype": "text/x-python",
   "name": "python",
   "nbconvert_exporter": "python",
   "pygments_lexer": "ipython3",
   "version": "3.6.4"
  }
 },
 "nbformat": 4,
 "nbformat_minor": 2
}
