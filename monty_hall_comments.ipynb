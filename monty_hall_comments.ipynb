{
 "cells": [
  {
   "cell_type": "markdown",
   "metadata": {},
   "source": [
    "let P(W) = likelihood of winning = 1/3 or .33\n",
    "\n",
    "P(W|switch) = likelihood of winning given that you swith to other remaining door = 2/3 or .66\n",
    "\n",
    "P(W|^switch) = likelihood of winning given that you do not switch == P(W) = .33"
   ]
  },
  {
   "cell_type": "markdown",
   "metadata": {},
   "source": [
    "When the host opens one of the other two doors to reveal a dud that elminates uncertainty of picking a wrong door by 1/3. That is, if you make a choice to change doors, you now have doubleded your chances of winning from the original 1/3 to 2/3. If you do not switch, your chances of winning remain at 1/3"
   ]
  },
  {
   "cell_type": "code",
   "execution_count": null,
   "metadata": {},
   "outputs": [],
   "source": []
  }
 ],
 "metadata": {
  "kernelspec": {
   "display_name": "Python 3",
   "language": "python",
   "name": "python3"
  },
  "language_info": {
   "codemirror_mode": {
    "name": "ipython",
    "version": 3
   },
   "file_extension": ".py",
   "mimetype": "text/x-python",
   "name": "python",
   "nbconvert_exporter": "python",
   "pygments_lexer": "ipython3",
   "version": "3.6.4"
  }
 },
 "nbformat": 4,
 "nbformat_minor": 2
}
