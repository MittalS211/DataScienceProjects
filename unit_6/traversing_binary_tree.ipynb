{
 "cells": [
  {
   "cell_type": "code",
   "execution_count": 17,
   "metadata": {},
   "outputs": [],
   "source": [
    "class BinaryTree(object):\n",
    "    \n",
    "    def __init__(self, val, left_child=None, right_child=None):\n",
    "        self.val = val\n",
    "        self.left_child = left_child\n",
    "        self.right_child = right_child\n",
    "        \n",
    "    def insert_left(self, value):\n",
    "        if self.left_child == None:\n",
    "            self.left_child = BinaryTree(value)\n",
    "        else:\n",
    "            new_node = BinaryTree(value)\n",
    "            new_node.left_child = self.left_child\n",
    "            self.left_child = new_node\n",
    "    def insert_right(self, value):\n",
    "        if self.rigt_child == None:\n",
    "            self.right_child = BinaryTree(value)\n",
    "        else:\n",
    "            new_node = BinaryTree(value)\n",
    "            new_node.right_child = self.left_child\n",
    "            self.right_child = new_node\n",
    "tree=BinaryTree(['a'], left_child='b')"
   ]
  },
  {
   "cell_type": "code",
   "execution_count": 13,
   "metadata": {},
   "outputs": [],
   "source": [
    "class Node:\n",
    "    def __init__(self, val):\n",
    "        self.left = None\n",
    "        self.right = None\n",
    "        self.val = val\n",
    "         def insert_left(self, val, ls=None):\n",
    "            res = []\n",
    "            if ls:\n",
    "                for item in ls:\n",
    "                    val.left = item\n",
    "                    self.insert_left(root.left)\n",
    "            else:\n",
    "                \n"
   ]
  },
  {
   "cell_type": "code",
   "execution_count": 48,
   "metadata": {},
   "outputs": [],
   "source": [
    "from numpy.random import randint\n",
    "values = randint(1, 1e3, 15)"
   ]
  },
  {
   "cell_type": "code",
   "execution_count": 60,
   "metadata": {},
   "outputs": [],
   "source": [
    "class Node: \n",
    "    # A utility function to create a new node \n",
    "    def __init__(self, key): \n",
    "        self.key = key \n",
    "        self.left = None\n",
    "        self.right = None\n",
    "  \n",
    "\n",
    "    def createNode(parent, i, created, root): \n",
    "\n",
    "        # If this node is already created \n",
    "        if created[i] is not None: \n",
    "            return\n",
    "\n",
    "        # Create a new node and set created[i] \n",
    "        created[i] = Node(i) \n",
    "\n",
    "        # If 'i' is root, change root pointer and return \n",
    "        if parent[i] == -1: \n",
    "            root[0] = created[i] # root[0] denotes root of the tree \n",
    "            return\n",
    "\n",
    "        # If parent is not created, then create parent first \n",
    "        if created[parent[i]] is None: \n",
    "            createNode(parent, parent[i], created, root ) \n",
    "\n",
    "        # Find parent pointer \n",
    "        p = created[parent[i]] \n",
    "\n",
    "        # If this is first child of parent \n",
    "        if p.left is None: \n",
    "            p.left = created[i] \n",
    "        # If second child \n",
    "        else: \n",
    "            p.right = created[i] \n",
    "\n",
    "\n",
    "    # Creates tree from parent[0..n-1] and returns root of the \n",
    "    # created tree \n",
    "    def createTree(parent): \n",
    "        n = len(parent) \n",
    "\n",
    "        # Create and array created[] to keep track  \n",
    "        # of created nodes, initialize all entries as None \n",
    "        created = [None for i in range(n+1)] \n",
    "\n",
    "        root = [None] \n",
    "        for i in range(n): \n",
    "            createNode(parent, i, created, root) \n"
   ]
  },
  {
   "cell_type": "code",
   "execution_count": 50,
   "metadata": {},
   "outputs": [],
   "source": [
    "values = list(values) "
   ]
  },
  {
   "cell_type": "code",
   "execution_count": 63,
   "metadata": {},
   "outputs": [],
   "source": [
    "parent = [-1, 0, 0, 1, 1, 3, 5] \n",
    "root = createTree(parent) "
   ]
  },
  {
   "cell_type": "code",
   "execution_count": 54,
   "metadata": {},
   "outputs": [],
   "source": [
    "values= sorted(values)"
   ]
  },
  {
   "cell_type": "code",
   "execution_count": 61,
   "metadata": {},
   "outputs": [],
   "source": [
    "root = createTree([x for x in range (15)]) "
   ]
  },
  {
   "cell_type": "code",
   "execution_count": 66,
   "metadata": {},
   "outputs": [],
   "source": [
    "class Node(object): # clean slate\n",
    "    \n",
    "    def __init__(self, value, left=None, right=None): # point to argument containers\n",
    "        self.value = value #assign values to attributes\n",
    "        self.left = left\n",
    "        self.right = right\n",
    "        "
   ]
  },
  {
   "cell_type": "code",
   "execution_count": 71,
   "metadata": {},
   "outputs": [],
   "source": [
    "t = Node(1, Node(2, Node(3),Node(4)), Node(5, Node(6), Node(7)))"
   ]
  },
  {
   "cell_type": "code",
   "execution_count": 74,
   "metadata": {},
   "outputs": [],
   "source": [
    "def breadth_first(rootNode):\n",
    "    current_lvl = [rootNode]\n",
    "    while current_lvl:\n",
    "        next_lvl = []\n",
    "        for i in current_lvl:\n",
    "            print(i.value)\n",
    "            if i.left:\n",
    "                next_lvl.append(i.left)\n",
    "            if i.right:\n",
    "                next_lvl.append(i.right)\n",
    "        print(\"_________\")\n",
    "        current_lvl = next_lvl\n",
    "        "
   ]
  },
  {
   "cell_type": "code",
   "execution_count": 79,
   "metadata": {},
   "outputs": [],
   "source": [
    "def depth_first(rootNode):\n",
    "    current_branch = [rootNode]\n",
    "    while current_branch:\n",
    "        next_branch = []\n",
    "        for i in current_branch:\n",
    "            print(i.value)\n",
    "            if i.left:\n",
    "                next_branch.append(i.left)\n",
    "        print(\"_________\")\n",
    "        current_branch = next_branch\n",
    "            "
   ]
  },
  {
   "cell_type": "code",
   "execution_count": 99,
   "metadata": {},
   "outputs": [],
   "source": [
    "def inorder(root): \n",
    "    if root: # root is not empty\n",
    "        print(root.value)\n",
    "        inorder(root.left) \n",
    " \n",
    "        inorder(root.right)"
   ]
  },
  {
   "cell_type": "code",
   "execution_count": 100,
   "metadata": {},
   "outputs": [
    {
     "name": "stdout",
     "output_type": "stream",
     "text": [
      "1\n",
      "2\n",
      "3\n",
      "4\n",
      "5\n",
      "6\n",
      "7\n"
     ]
    }
   ],
   "source": [
    "inorder(t)"
   ]
  },
  {
   "cell_type": "code",
   "execution_count": 178,
   "metadata": {},
   "outputs": [],
   "source": [
    "def fibonacci(n):\n",
    "    if n <= 2:\n",
    "        return [0,1]\n",
    "    else:\n",
    "        ls = []\n",
    "        for i in range(1, n):\n",
    "            #while fibonacci(i)[-1] < 4e6:\n",
    "            #    ls.append(fibonacci(i)[0])\n",
    "            ls.append(fibonacci(i)[-2]+  fibonacci(i)[-1])\n",
    "        return ls"
   ]
  },
  {
   "cell_type": "code",
   "execution_count": 223,
   "metadata": {},
   "outputs": [],
   "source": [
    "# euler 1 Multiple 3 & 5\n",
    "def multiples_sum():\n",
    "\n",
    "    return sum([i for i in range(1000) if i%3==0 or i%5==0])"
   ]
  },
  {
   "cell_type": "code",
   "execution_count": 224,
   "metadata": {},
   "outputs": [
    {
     "data": {
      "text/plain": [
       "233168"
      ]
     },
     "execution_count": 224,
     "metadata": {},
     "output_type": "execute_result"
    }
   ],
   "source": [
    "multiples_sum()"
   ]
  },
  {
   "cell_type": "code",
   "execution_count": 214,
   "metadata": {},
   "outputs": [
    {
     "data": {
      "text/plain": [
       "4613732"
      ]
     },
     "execution_count": 214,
     "metadata": {},
     "output_type": "execute_result"
    }
   ],
   "source": [
    "# euler 2 Even fib nums\n",
    "def fib():\n",
    "    nums = [0, 1]\n",
    "\n",
    "    a = 0\n",
    "\n",
    "    while a < 4e6:\n",
    "        a=nums[-1] + nums[-2]\n",
    "        nums.append(a)\n",
    "    if a > 4e6:\n",
    "        nums.pop()\n",
    "\n",
    "    return sum([i for i in nums[:] if i%2==0])\n",
    "\n",
    "fib()       \n"
   ]
  },
  {
   "cell_type": "code",
   "execution_count": 232,
   "metadata": {},
   "outputs": [],
   "source": [
    "def is_prime(num):\n",
    "    \"\"\"Returns True if the number is prime\n",
    "    else False.\"\"\"\n",
    "    if num == 0 or num == 1:\n",
    "        return False\n",
    "    for x in range(2, num):\n",
    "        if num % x == 0:\n",
    "            return False\n",
    "    else:\n",
    "        return True"
   ]
  },
  {
   "cell_type": "code",
   "execution_count": 249,
   "metadata": {},
   "outputs": [],
   "source": [
    "def factor(num):\n",
    "    factors =[]\n",
    "    for x in range(num-1, 2, -1):\n",
    "        if num % x == 0:\n",
    "            factors.append(x)\n",
    "    return factors[0]"
   ]
  },
  {
   "cell_type": "code",
   "execution_count": 260,
   "metadata": {},
   "outputs": [],
   "source": [
    "n = 600851475143\n",
    "i = 2\n",
    "\n",
    "while i * i < n:\n",
    "    while n%i == 0:\n",
    "        n = n / i\n",
    "    i = i + 1\n",
    "    factors=[]\n",
    "    factors.append(i)"
   ]
  },
  {
   "cell_type": "code",
   "execution_count": 262,
   "metadata": {},
   "outputs": [
    {
     "data": {
      "text/plain": [
       "6857.0"
      ]
     },
     "execution_count": 262,
     "metadata": {},
     "output_type": "execute_result"
    }
   ],
   "source": [
    "n"
   ]
  },
  {
   "cell_type": "code",
   "execution_count": null,
   "metadata": {},
   "outputs": [],
   "source": []
  },
  {
   "cell_type": "code",
   "execution_count": null,
   "metadata": {},
   "outputs": [],
   "source": []
  }
 ],
 "metadata": {
  "kernelspec": {
   "display_name": "Python 3",
   "language": "python",
   "name": "python3"
  },
  "language_info": {
   "codemirror_mode": {
    "name": "ipython",
    "version": 3
   },
   "file_extension": ".py",
   "mimetype": "text/x-python",
   "name": "python",
   "nbconvert_exporter": "python",
   "pygments_lexer": "ipython3",
   "version": "3.6.4"
  }
 },
 "nbformat": 4,
 "nbformat_minor": 2
}
