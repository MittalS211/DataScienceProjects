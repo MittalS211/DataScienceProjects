{
 "cells": [
  {
   "cell_type": "markdown",
   "metadata": {},
   "source": [
    "## Initial Scrape of NTEE codes and mission statements from guidestar API"
   ]
  },
  {
   "cell_type": "code",
   "execution_count": 287,
   "metadata": {},
   "outputs": [],
   "source": [
    "from time import sleep \n",
    "import re\n",
    "from tqdm import tqdm # track progress of loop\n",
    "import http.client, urllib.request, urllib.parse, urllib.error, base64"
   ]
  },
  {
   "cell_type": "code",
   "execution_count": 410,
   "metadata": {},
   "outputs": [],
   "source": [
    "# intialise request body in JSON format as Str\n",
    "body = '''{\n",
    "from: 0,\n",
    "  size: 25,\n",
    "    filters: {\n",
    "      geography: {\n",
    "        state: ['ID', 'AK', 'WA', 'OR', 'MO'],\n",
    "    }\n",
    "  }\n",
    "}'''"
   ]
  },
  {
   "cell_type": "code",
   "execution_count": 411,
   "metadata": {},
   "outputs": [],
   "source": [
    "# initialize other components\n",
    "headers = {\n",
    "    # Request headers\n",
    "    'Content-Type': 'application/json',\n",
    "    'Subscription-Key': '52d3100fdccb41a9991c95814cbd0b5d',\n",
    "}\n",
    "\n",
    "params = urllib.parse.urlencode({\n",
    "})\n",
    "\n",
    "    "
   ]
  },
  {
   "cell_type": "code",
   "execution_count": 415,
   "metadata": {},
   "outputs": [],
   "source": [
    "container =[]"
   ]
  },
  {
   "cell_type": "code",
   "execution_count": 404,
   "metadata": {},
   "outputs": [],
   "source": [
    "\n",
    "start = ['0']+[str(x) for x in range(26, 9977, 25)]\n",
    "end = [str(x) for x in range (25, 10001, 25)]"
   ]
  },
  {
   "cell_type": "code",
   "execution_count": 405,
   "metadata": {},
   "outputs": [
    {
     "name": "stderr",
     "output_type": "stream",
     "text": [
      "74it [09:46, 37.16s/it]"
     ]
    },
    {
     "name": "stdout",
     "output_type": "stream",
     "text": [
      "[Errno 8] nodename nor servname provided, or not known\n",
      "[Errno 8] nodename nor servname provided, or not known\n",
      "[Errno 8] nodename nor servname provided, or not known\n",
      "[Errno 8] nodename nor servname provided, or not known\n",
      "[Errno 8] nodename nor servname provided, or not known\n",
      "[Errno 8] nodename nor servname provided, or not known\n",
      "[Errno 8] nodename nor servname provided, or not known\n"
     ]
    },
    {
     "name": "stderr",
     "output_type": "stream",
     "text": [
      "\r",
      "79it [09:47, 26.02s/it]"
     ]
    },
    {
     "name": "stdout",
     "output_type": "stream",
     "text": [
      "[Errno 8] nodename nor servname provided, or not known\n",
      "[Errno 8] nodename nor servname provided, or not known\n",
      "[Errno 8] nodename nor servname provided, or not known\n"
     ]
    },
    {
     "name": "stderr",
     "output_type": "stream",
     "text": [
      "400it [40:54, 15.92s/it]\n"
     ]
    }
   ],
   "source": [
    "x =0 # track num of calls\n",
    "\n",
    "for num1, num2 in tqdm(zip(start, end)):\n",
    "    try:\n",
    "        conn = http.client.HTTPSConnection('apidata.guidestar.org')\n",
    "        body = re.sub(num1, str(int(num1)+25), body) #increment start pagination of results\n",
    "        body = re.sub(num2, str(int(num2)+25), body) #increment end pagination of result\n",
    "        conn.request(\"POST\", \"/essentials/v1?%s\" % params, body, headers)\n",
    "        response = conn.getresponse()\n",
    "        data = response.read()\n",
    "        container.append(str(data).split(','))\n",
    "        conn.close()\n",
    "        x+=1\n",
    "        if x%10 ==0: #delay calls for 50 seconds every 10  iteration to avoid 429 status errors\n",
    "            sleep(50)\n",
    "    except Exception as e:\n",
    "        print(\"[Errno {0}] {1}\".format(e.errno, e.strerror))\n",
    "        x+=1\n",
    "        if x%10 ==0:\n",
    "            sleep(50)"
   ]
  },
  {
   "cell_type": "code",
   "execution_count": 377,
   "metadata": {},
   "outputs": [],
   "source": [
    "#strip extra double quotes from extracted data\n",
    "for i, line in enumerate(filtered_data):\n",
    "    filtered_data[i] = line.replace('\\\"', '')"
   ]
  },
  {
   "cell_type": "code",
   "execution_count": 385,
   "metadata": {},
   "outputs": [],
   "source": [
    "# filter data field of interest\n",
    "data = {'ein':[],'organization_name':[],'mission':[],'ntee_code':[]}\n",
    "for line in filtered_data:\n",
    "        if line.startswith('ein'):\n",
    "            data['ein'].append(line.split(':')[1])\n",
    "        elif line.startswith('organization_name'):\n",
    "            data['organization_name'].append(line.split(':')[1])\n",
    "        elif line.startswith('mission'):\n",
    "            data['mission'].append(line.split(':')[1])\n",
    "        elif line.startswith('ntee_code'):\n",
    "            data['ntee_code'].append(line.split(':')[1])"
   ]
  },
  {
   "cell_type": "code",
   "execution_count": 1,
   "metadata": {},
   "outputs": [],
   "source": [
    "import pandas as pd\n",
    "import numpy as np"
   ]
  },
  {
   "cell_type": "code",
   "execution_count": 389,
   "metadata": {},
   "outputs": [],
   "source": [
    "df = pd.DataFrame.from_dict(data)"
   ]
  },
  {
   "cell_type": "code",
   "execution_count": 439,
   "metadata": {},
   "outputs": [
    {
     "name": "stdout",
     "output_type": "stream",
     "text": [
      "info extracted from 4475 non-prfits\n"
     ]
    },
    {
     "data": {
      "text/html": [
       "<div>\n",
       "<style scoped>\n",
       "    .dataframe tbody tr th:only-of-type {\n",
       "        vertical-align: middle;\n",
       "    }\n",
       "\n",
       "    .dataframe tbody tr th {\n",
       "        vertical-align: top;\n",
       "    }\n",
       "\n",
       "    .dataframe thead th {\n",
       "        text-align: right;\n",
       "    }\n",
       "</style>\n",
       "<table border=\"1\" class=\"dataframe\">\n",
       "  <thead>\n",
       "    <tr style=\"text-align: right;\">\n",
       "      <th></th>\n",
       "      <th>ein</th>\n",
       "      <th>organization_name</th>\n",
       "      <th>mission</th>\n",
       "      <th>ntee_code</th>\n",
       "    </tr>\n",
       "  </thead>\n",
       "  <tbody>\n",
       "    <tr>\n",
       "      <th>0</th>\n",
       "      <td>46-2657636</td>\n",
       "      <td>Wenatchee Christian Early Learning</td>\n",
       "      <td>To Provide Childcare For Children Ages 1-12</td>\n",
       "      <td>P33 Child Day Care</td>\n",
       "    </tr>\n",
       "    <tr>\n",
       "      <th>1</th>\n",
       "      <td>46-2667218</td>\n",
       "      <td>Katy Land Trust Inc</td>\n",
       "      <td>The Katy Land Trust Seeks To Educate All Misso...</td>\n",
       "      <td>C34 Land Resources Conservation</td>\n",
       "    </tr>\n",
       "    <tr>\n",
       "      <th>2</th>\n",
       "      <td>46-2675536</td>\n",
       "      <td>Biggest Show in Idaho Music Festival &amp; Extrava...</td>\n",
       "      <td>Community Music Festival And Fireworks Event</td>\n",
       "      <td>A68 Music</td>\n",
       "    </tr>\n",
       "    <tr>\n",
       "      <th>3</th>\n",
       "      <td>47-0915970</td>\n",
       "      <td>Ozark Adventures Inc</td>\n",
       "      <td>To Provide And Promote The History And Culture...</td>\n",
       "      <td>B60 Adult</td>\n",
       "    </tr>\n",
       "    <tr>\n",
       "      <th>4</th>\n",
       "      <td>46-4626729</td>\n",
       "      <td>Friends of Wyatt</td>\n",
       "      <td>NaN</td>\n",
       "      <td>Z99 Unknown</td>\n",
       "    </tr>\n",
       "  </tbody>\n",
       "</table>\n",
       "</div>"
      ],
      "text/plain": [
       "          ein                                  organization_name  \\\n",
       "0  46-2657636                 Wenatchee Christian Early Learning   \n",
       "1  46-2667218                                Katy Land Trust Inc   \n",
       "2  46-2675536  Biggest Show in Idaho Music Festival & Extrava...   \n",
       "3  47-0915970                               Ozark Adventures Inc   \n",
       "4  46-4626729                                   Friends of Wyatt   \n",
       "\n",
       "                                             mission  \\\n",
       "0        To Provide Childcare For Children Ages 1-12   \n",
       "1  The Katy Land Trust Seeks To Educate All Misso...   \n",
       "2       Community Music Festival And Fireworks Event   \n",
       "3  To Provide And Promote The History And Culture...   \n",
       "4                                                NaN   \n",
       "\n",
       "                         ntee_code  \n",
       "0               P33 Child Day Care  \n",
       "1  C34 Land Resources Conservation  \n",
       "2                        A68 Music  \n",
       "3                        B60 Adult  \n",
       "4                      Z99 Unknown  "
      ]
     },
     "execution_count": 439,
     "metadata": {},
     "output_type": "execute_result"
    }
   ],
   "source": [
    "print('info extracted from {} non-prfits'.format(df.shape[0]))\n",
    "df.head()"
   ]
  },
  {
   "cell_type": "code",
   "execution_count": 440,
   "metadata": {},
   "outputs": [
    {
     "name": "stdout",
     "output_type": "stream",
     "text": [
      "mission statements extracted from 3448 non-prfits\n"
     ]
    },
    {
     "data": {
      "text/html": [
       "<div>\n",
       "<style scoped>\n",
       "    .dataframe tbody tr th:only-of-type {\n",
       "        vertical-align: middle;\n",
       "    }\n",
       "\n",
       "    .dataframe tbody tr th {\n",
       "        vertical-align: top;\n",
       "    }\n",
       "\n",
       "    .dataframe thead th {\n",
       "        text-align: right;\n",
       "    }\n",
       "</style>\n",
       "<table border=\"1\" class=\"dataframe\">\n",
       "  <thead>\n",
       "    <tr style=\"text-align: right;\">\n",
       "      <th></th>\n",
       "      <th>ein</th>\n",
       "      <th>organization_name</th>\n",
       "      <th>mission</th>\n",
       "      <th>ntee_code</th>\n",
       "    </tr>\n",
       "  </thead>\n",
       "  <tbody>\n",
       "    <tr>\n",
       "      <th>0</th>\n",
       "      <td>46-2657636</td>\n",
       "      <td>Wenatchee Christian Early Learning</td>\n",
       "      <td>To Provide Childcare For Children Ages 1-12</td>\n",
       "      <td>P33 Child Day Care</td>\n",
       "    </tr>\n",
       "    <tr>\n",
       "      <th>1</th>\n",
       "      <td>46-2667218</td>\n",
       "      <td>Katy Land Trust Inc</td>\n",
       "      <td>The Katy Land Trust Seeks To Educate All Misso...</td>\n",
       "      <td>C34 Land Resources Conservation</td>\n",
       "    </tr>\n",
       "    <tr>\n",
       "      <th>2</th>\n",
       "      <td>46-2675536</td>\n",
       "      <td>Biggest Show in Idaho Music Festival &amp; Extrava...</td>\n",
       "      <td>Community Music Festival And Fireworks Event</td>\n",
       "      <td>A68 Music</td>\n",
       "    </tr>\n",
       "    <tr>\n",
       "      <th>3</th>\n",
       "      <td>47-0915970</td>\n",
       "      <td>Ozark Adventures Inc</td>\n",
       "      <td>To Provide And Promote The History And Culture...</td>\n",
       "      <td>B60 Adult</td>\n",
       "    </tr>\n",
       "    <tr>\n",
       "      <th>5</th>\n",
       "      <td>46-2788508</td>\n",
       "      <td>West Salem Band Boosters</td>\n",
       "      <td>To Provide Finanacial And Volunteer Support Fo...</td>\n",
       "      <td>B11 Single Organization Support</td>\n",
       "    </tr>\n",
       "  </tbody>\n",
       "</table>\n",
       "</div>"
      ],
      "text/plain": [
       "          ein                                  organization_name  \\\n",
       "0  46-2657636                 Wenatchee Christian Early Learning   \n",
       "1  46-2667218                                Katy Land Trust Inc   \n",
       "2  46-2675536  Biggest Show in Idaho Music Festival & Extrava...   \n",
       "3  47-0915970                               Ozark Adventures Inc   \n",
       "5  46-2788508                           West Salem Band Boosters   \n",
       "\n",
       "                                             mission  \\\n",
       "0        To Provide Childcare For Children Ages 1-12   \n",
       "1  The Katy Land Trust Seeks To Educate All Misso...   \n",
       "2       Community Music Festival And Fireworks Event   \n",
       "3  To Provide And Promote The History And Culture...   \n",
       "5  To Provide Finanacial And Volunteer Support Fo...   \n",
       "\n",
       "                         ntee_code  \n",
       "0               P33 Child Day Care  \n",
       "1  C34 Land Resources Conservation  \n",
       "2                        A68 Music  \n",
       "3                        B60 Adult  \n",
       "5  B11 Single Organization Support  "
      ]
     },
     "execution_count": 440,
     "metadata": {},
     "output_type": "execute_result"
    }
   ],
   "source": [
    "df['mission'] = df.mission.replace(\"\", np.NaN)\n",
    "\n",
    "df2 =df.dropna()\n",
    "print('mission statements extracted from {} non-prfits'.format(df2.shape[0]))\n",
    "df2.head()\n"
   ]
  },
  {
   "cell_type": "code",
   "execution_count": 434,
   "metadata": {},
   "outputs": [],
   "source": [
    "# save dataframe to file for later merge with Irs masterfile\n",
    "df.to_csv('/Users/markespina/src/DataScienceProjects/data/fundamentals/guidestar_sample.csv')"
   ]
  },
  {
   "cell_type": "code",
   "execution_count": null,
   "metadata": {},
   "outputs": [],
   "source": []
  }
 ],
 "metadata": {
  "kernelspec": {
   "display_name": "Python 3",
   "language": "python",
   "name": "python3"
  },
  "language_info": {
   "codemirror_mode": {
    "name": "ipython",
    "version": 3
   },
   "file_extension": ".py",
   "mimetype": "text/x-python",
   "name": "python",
   "nbconvert_exporter": "python",
   "pygments_lexer": "ipython3",
   "version": "3.6.4"
  }
 },
 "nbformat": 4,
 "nbformat_minor": 2
}
