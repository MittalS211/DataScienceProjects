{
 "cells": [
  {
   "cell_type": "code",
   "execution_count": 1,
   "metadata": {},
   "outputs": [],
   "source": [
    "import pandas as pd\n",
    "from matplotlib import pyplot as plt\n",
    "import numpy as np\n",
    "import seaborn as sns\n",
    "%matplotlib inline\n",
    "pd.options.display.float_format = '{:.3f}'.format\n",
    "\n",
    "# Suppress annoying harmless error.\n",
    "import warnings\n",
    "warnings.filterwarnings(action=\"ignore\", module=\"scipy\", message=\"^internal gelsd\")"
   ]
  },
  {
   "cell_type": "code",
   "execution_count": 2,
   "metadata": {},
   "outputs": [],
   "source": [
    "df= pd.read_csv('/Users/markespina/Downloads/NEW_YORK-Offenses_Known_to_Law_Enforcement_by_City_2013_13tbl8ny.csv')"
   ]
  },
  {
   "cell_type": "code",
   "execution_count": 3,
   "metadata": {
    "slideshow": {
     "slide_type": "fragment"
    }
   },
   "outputs": [],
   "source": [
    "def clean_dataset(data):\n",
    "    data= data.iloc[4:]\n",
    "\n",
    "    data.columns=['City', 'Population', 'Violent_crime',\n",
    "       'Murder_manslaughter',\n",
    "       'Rape_ver1', 'Rape_ver2',\n",
    "       'Robbery', 'Aggravated_assault', 'Property_crime', 'Burglary',\n",
    "       'Larceny_theft', 'auto_theft', 'Arson3']\n",
    "\n",
    "\n",
    "\n",
    "    data= data.reset_index().drop('index', axis=1)\n",
    "\n",
    "    data=data.iloc[:348]\n",
    "    data.Arson3.fillna(0, inplace=True)\n",
    "\n",
    "\n",
    "    data['City']=pd.Categorical(data.City).codes.reshape(-1,1)\n",
    "\n",
    "    data[\"Population\"]=data.Population.str.replace(',', \"\").astype(int)\n",
    "\n",
    "    data['Population2']=data['Population']**2\n",
    "\n",
    "    for col in ['Violent_crime', 'Murder_manslaughter','Rape_ver2', 'Robbery', 'Aggravated_assault', 'Property_crime'\\\n",
    "       , 'Burglary', 'Larceny_theft', 'auto_theft']:\n",
    "        data[col]= data[col].str.replace(',',\"\").astype(int)\n",
    "\n",
    "    features=data[['City','Population','Population2','Violent_crime', 'Murder_manslaughter','Rape_ver2', 'Robbery', 'Aggravated_assault', 'Property_crime'\\\n",
    "       , 'Burglary', 'Larceny_theft', 'auto_theft']]\n",
    "    return features"
   ]
  },
  {
   "cell_type": "code",
   "execution_count": 4,
   "metadata": {},
   "outputs": [],
   "source": [
    "df =clean_dataset(df)"
   ]
  },
  {
   "cell_type": "code",
   "execution_count": 5,
   "metadata": {},
   "outputs": [
    {
     "data": {
      "text/plain": [
       "<matplotlib.axes._subplots.AxesSubplot at 0x113b06128>"
      ]
     },
     "execution_count": 5,
     "metadata": {},
     "output_type": "execute_result"
    },
    {
     "data": {
      "image/png": "[encoded data removed]",
      "text/plain": [
       "<Figure size 432x288 with 2 Axes>"
      ]
     },
     "metadata": {},
     "output_type": "display_data"
    }
   ],
   "source": [
    "sns.heatmap(df.corr())"
   ]
  },
  {
   "cell_type": "code",
   "execution_count": 6,
   "metadata": {},
   "outputs": [],
   "source": [
    "# starting data/features\n",
    "X = df[['City','Population','Population2','Violent_crime', 'Murder_manslaughter']]\n",
    "y = df['Property_crime']"
   ]
  },
  {
   "cell_type": "code",
   "execution_count": 7,
   "metadata": {},
   "outputs": [
    {
     "name": "stderr",
     "output_type": "stream",
     "text": [
      "/Library/Frameworks/Python.framework/Versions/3.6/lib/python3.6/site-packages/sklearn/linear_model/base.py:509: RuntimeWarning: internal gelsd driver lwork query error, required iwork dimension not returned. This is likely the result of LAPACK bug 0038, fixed in LAPACK 3.2.2 (released July 21, 2010). Falling back to 'gelss' driver.\n",
      "  linalg.lstsq(X, y)\n"
     ]
    },
    {
     "data": {
      "text/plain": [
       "0.731459166461456"
      ]
     },
     "execution_count": 7,
     "metadata": {},
     "output_type": "execute_result"
    }
   ],
   "source": [
    "from sklearn.linear_model import LinearRegression\n",
    "from sklearn.model_selection import train_test_split\n",
    "X_train, X_test, y_train, y_test = train_test_split(X,y, random_state=10)\n",
    "\n",
    "lr = LinearRegression()\n",
    "\n",
    "# Reduce X to R(X) and regress on y.\n",
    "lr.fit(X_train, y_train)\n",
    "lr.score(X_test, y_test)"
   ]
  },
  {
   "cell_type": "code",
   "execution_count": 24,
   "metadata": {},
   "outputs": [
    {
     "data": {
      "text/plain": [
       "0.9466020141483428"
      ]
     },
     "execution_count": 24,
     "metadata": {},
     "output_type": "execute_result"
    }
   ],
   "source": [
    "# use Partial Least Squares to reduce dementionality\n",
    "from sklearn.cross_decomposition import PLSRegression\n",
    "from sklearn.model_selection import train_test_split\n",
    "X_train, X_test, y_train, y_test = train_test_split(X,y, random_state=10)\n",
    "pls1 = PLSRegression(n_components=3)\n",
    "\n",
    "# R^2 increased by wide margin, since all variables are highly correlated, resulting increase in performance is expected\n",
    "pls1.fit(X_train, y_train)\n",
    "pls1.score(X_test, y_test)"
   ]
  },
  {
   "cell_type": "code",
   "execution_count": 76,
   "metadata": {},
   "outputs": [],
   "source": [
    "# manual grouping of features for pca\n",
    "violent_crimes=['Violent_crime', 'Murder_manslaughter','Rape_ver2', 'Aggravated_assault']\n",
    "\n",
    "thefts=['Burglary', 'Larceny_theft', 'auto_theft']\n",
    "aggr_features=[[violent_crimes, 'violent_crime'], [thefts, 'theft']]\n",
    "\n",
    "#reduce features\n",
    "for group in aggr_features:\n",
    "    means = df[group[0]].mean(axis=0)\n",
    "    stds = df[group[0]].std(axis=0)\n",
    "    df[group[1]]=((df[group[0]] - means) / stds).mean(axis=1)\n"
   ]
  },
  {
   "cell_type": "code",
   "execution_count": 77,
   "metadata": {},
   "outputs": [],
   "source": [
    "#3 reduce to new components\n",
    "X = df[['Population', 'Population2','violent_crime', 'theft']]\n",
    "y=df['Property_crime']\n"
   ]
  },
  {
   "cell_type": "code",
   "execution_count": 78,
   "metadata": {},
   "outputs": [
    {
     "data": {
      "text/plain": [
       "0.9652924829740417"
      ]
     },
     "execution_count": 78,
     "metadata": {},
     "output_type": "execute_result"
    }
   ],
   "source": [
    "from sklearn.linear_model import LinearRegression\n",
    "lr = LinearRegression()\n",
    "\n",
    "X_train, X_test, y_train, y_test = train_test_split(X, y, random_state=10)\n",
    "\n",
    "lr.fit(X_train, y_train)\n",
    "\n",
    "#R^2 for manually reduced data is fairly similar to what is achieved with Partial least squares\n",
    "lr.score(X_test, y_test)"
   ]
  },
  {
   "cell_type": "code",
   "execution_count": 35,
   "metadata": {},
   "outputs": [
    {
     "name": "stdout",
     "output_type": "stream",
     "text": [
      "[ 0.92407579 -0.31810449  0.1070072   0.95780046 -0.50173725  0.92219207\n",
      "  0.9610564   0.62110638  0.82901192  0.98010325]\n"
     ]
    },
    {
     "data": {
      "text/plain": [
       "<matplotlib.collections.PathCollection at 0x114923780>"
      ]
     },
     "execution_count": 35,
     "metadata": {},
     "output_type": "execute_result"
    },
    {
     "data": {
      "image/png": "[encoded data removed]",
      "text/plain": [
       "<Figure size 432x288 with 1 Axes>"
      ]
     },
     "metadata": {},
     "output_type": "display_data"
    }
   ],
   "source": [
    "from sklearn.model_selection import cross_val_score\n",
    "\n",
    "print(cross_val_score(lr, X_test, y_test, cv=10))\n",
    "y_pred = lr.predict(X_test)\n",
    "\n",
    "plt.scatter(y_pred, y_pred-y_test)"
   ]
  },
  {
   "cell_type": "code",
   "execution_count": 38,
   "metadata": {},
   "outputs": [
    {
     "data": {
      "text/plain": [
       "array([0.92452118, 0.78562815, 0.94173713, 0.95588277, 0.96066149])"
      ]
     },
     "execution_count": 38,
     "metadata": {},
     "output_type": "execute_result"
    }
   ],
   "source": [
    "cross_val_score(lr, X_test, y_test, cv=5)"
   ]
  },
  {
   "cell_type": "code",
   "execution_count": 31,
   "metadata": {},
   "outputs": [
    {
     "name": "stdout",
     "output_type": "stream",
     "text": [
      "With 20% Holdout:  0.9466020141483428\n",
      "Sample:  0.999642873181724\n"
     ]
    }
   ],
   "source": [
    "from sklearn.cross_decomposition import PLSRegression\n",
    "from sklearn.model_selection import train_test_split\n",
    "X_train, X_test, y_train, y_test = train_test_split(X,y, random_state=10)\n",
    "pls12 = PLSRegression(n_components=3)\n",
    "\n",
    "# Reduce X to R(X) and regress on y.\n",
    "pls12.fit(X_train, y_train)\n",
    "hold_out = pls12.score(X_test,y_test)\n",
    "sample = pls12.score(X,y)\n",
    "print('With 20% Holdout: ', hold_out)\n",
    "print('Sample: ', sample)"
   ]
  },
  {
   "cell_type": "code",
   "execution_count": 356,
   "metadata": {},
   "outputs": [],
   "source": [
    "from sklearn.metrics import mean_absolute_error, mean_squared_error, mean_squared_log_error "
   ]
  },
  {
   "cell_type": "code",
   "execution_count": 357,
   "metadata": {},
   "outputs": [],
   "source": [
    "y_pred = lr.predict(X_test)"
   ]
  },
  {
   "cell_type": "code",
   "execution_count": 232,
   "metadata": {},
   "outputs": [
    {
     "data": {
      "text/plain": [
       "175.1299823183129"
      ]
     },
     "execution_count": 232,
     "metadata": {},
     "output_type": "execute_result"
    }
   ],
   "source": [
    "mean_absolute_error(y_test,y_pred)"
   ]
  },
  {
   "cell_type": "code",
   "execution_count": 233,
   "metadata": {},
   "outputs": [
    {
     "data": {
      "text/plain": [
       "78944.21064199276"
      ]
     },
     "execution_count": 233,
     "metadata": {},
     "output_type": "execute_result"
    }
   ],
   "source": [
    "mean_squared_error(y_test, y_pred)"
   ]
  },
  {
   "cell_type": "code",
   "execution_count": 234,
   "metadata": {},
   "outputs": [
    {
     "data": {
      "text/plain": [
       "<matplotlib.collections.PathCollection at 0x115702d68>"
      ]
     },
     "execution_count": 234,
     "metadata": {},
     "output_type": "execute_result"
    },
    {
     "data": {
      "image/png": "[encoded data removed]",
      "text/plain": [
       "<Figure size 432x288 with 1 Axes>"
      ]
     },
     "metadata": {},
     "output_type": "display_data"
    }
   ],
   "source": [
    "plt.scatter(y_test, y_pred-y_test)"
   ]
  },
  {
   "cell_type": "code",
   "execution_count": 79,
   "metadata": {},
   "outputs": [
    {
     "data": {
      "text/plain": [
       "<matplotlib.collections.PathCollection at 0x114da62e8>"
      ]
     },
     "execution_count": 79,
     "metadata": {},
     "output_type": "execute_result"
    },
    {
     "data": {
      "image/png": "[encoded data removed]",
      "text/plain": [
       "<Figure size 432x288 with 1 Axes>"
      ]
     },
     "metadata": {},
     "output_type": "display_data"
    }
   ],
   "source": [
    "from sklearn import preprocessing\n",
    "\n",
    "#standardize reduced features\n",
    "scaler = preprocessing.StandardScaler().fit(X_train)\n",
    "X_train_transformed = scaler.transform(X_train)\n",
    "X_test_transformed = scaler.transform(X_test)\n",
    "\n",
    "y_pred = lr.predict(X_test_transformed)\n",
    "\n",
    "plt.scatter(y_test, y_pred-y_test)"
   ]
  },
  {
   "cell_type": "code",
   "execution_count": 81,
   "metadata": {},
   "outputs": [
    {
     "data": {
      "text/plain": [
       "array([ 0.92407579, -0.31810449,  0.1070072 ,  0.95780046, -0.50173725,\n",
       "        0.92219207,  0.9610564 ,  0.62110638,  0.82901192,  0.98010325])"
      ]
     },
     "execution_count": 81,
     "metadata": {},
     "output_type": "execute_result"
    }
   ],
   "source": [
    "cross_val_score(lr, X_test_transformed, y_test, cv=10)"
   ]
  },
  {
   "cell_type": "code",
   "execution_count": 90,
   "metadata": {},
   "outputs": [
    {
     "data": {
      "text/plain": [
       "0.9652924829777443"
      ]
     },
     "execution_count": 90,
     "metadata": {},
     "output_type": "execute_result"
    }
   ],
   "source": [
    "lr = LinearRegression()\n",
    "lr.fit(X_train_transformed, y_train)\n",
    "lr.score(X_test_transformed, y_test)"
   ]
  },
  {
   "cell_type": "code",
   "execution_count": 91,
   "metadata": {},
   "outputs": [
    {
     "data": {
      "text/plain": [
       "0.9635994333669026"
      ]
     },
     "execution_count": 91,
     "metadata": {},
     "output_type": "execute_result"
    }
   ],
   "source": [
    "def adj_r2(X, y, r2):\n",
    "    return 1 - (1-r2)*(len(y)-1)/(len(y)-X.shape[1]-1)\n",
    "\n",
    "lr = LinearRegression()\n",
    "\n",
    "lr.fit(X_train_transformed, y_train)\n",
    "\n",
    "adj_r2(X_test_transformed, y_test, lr.score(X_test_transformed, y_test))"
   ]
  },
  {
   "cell_type": "code",
   "execution_count": 89,
   "metadata": {},
   "outputs": [
    {
     "data": {
      "text/plain": [
       "0.9652924829777443"
      ]
     },
     "execution_count": 89,
     "metadata": {},
     "output_type": "execute_result"
    }
   ],
   "source": [
    "lr = LinearRegression()\n",
    "lr.fit(X_train_transformed, y_train)\n",
    "lr.score(X_test_transformed, y_test)"
   ]
  },
  {
   "cell_type": "code",
   "execution_count": 45,
   "metadata": {},
   "outputs": [
    {
     "data": {
      "text/plain": [
       "array([ 0.92407579, -0.31810449,  0.1070072 ,  0.95780046, -0.50173725,\n",
       "        0.92219207,  0.9610564 ,  0.62110638,  0.82901192,  0.98010325])"
      ]
     },
     "execution_count": 45,
     "metadata": {},
     "output_type": "execute_result"
    }
   ],
   "source": [
    "#cross validation remains unchanged despite standardizing X\n",
    "cross_val_score(lr, X_test_transformed, y_test, cv=10)"
   ]
  },
  {
   "cell_type": "code",
   "execution_count": 92,
   "metadata": {},
   "outputs": [],
   "source": [
    "#try a new dataset\n",
    "new_df= pd.read_excel('/Users/markespina/Downloads/Table_8_Offenses_Known_to_Law_Enforcement_by_New_York_by_City_2014.xls')"
   ]
  },
  {
   "cell_type": "code",
   "execution_count": 93,
   "metadata": {},
   "outputs": [],
   "source": [
    "def clean_dataset2(data):\n",
    "    \n",
    "    data.columns= list(data.iloc[3])\n",
    "    data= data.iloc[4:]\n",
    "\n",
    "    data.columns=['City', 'Population', 'Violent_crime',\n",
    "       'Murder_manslaughter',\n",
    "       'Rape_ver1', 'Rape_ver2',\n",
    "       'Robbery', 'Aggravated_assault', 'Property_crime', 'Burglary',\n",
    "       'Larceny_theft', 'auto_theft', 'Arson3']\n",
    "\n",
    "\n",
    "\n",
    "    data= data.reset_index().drop('index', axis=1)\n",
    "\n",
    "    data=data[:348]\n",
    "    data.Arson3.fillna(0, inplace=True)\n",
    "\n",
    "    data.head()\n",
    "    \n",
    "    data['City']=pd.Categorical(data.City).codes.reshape(-1,1)\n",
    "\n",
    "    #data[\"Population\"]=data.Population.str.replace(',', \"\").astype(int)\n",
    "\n",
    "    data['Population2']=data['Population']**2\n",
    "    \n",
    "    data['Rape_ver1'].fillna(method='backfill', axis=0, inplace=True)\n",
    "\n",
    "\n",
    "    features=data[['City','Population','Population2','Violent_crime', 'Murder_manslaughter','Rape_ver1', 'Robbery', 'Aggravated_assault', 'Property_crime'\\\n",
    "       , 'Burglary', 'Larceny_theft', 'auto_theft']]\n",
    "    return features"
   ]
  },
  {
   "cell_type": "code",
   "execution_count": 94,
   "metadata": {},
   "outputs": [
    {
     "data": {
      "text/html": [
       "<div>\n",
       "<style scoped>\n",
       "    .dataframe tbody tr th:only-of-type {\n",
       "        vertical-align: middle;\n",
       "    }\n",
       "\n",
       "    .dataframe tbody tr th {\n",
       "        vertical-align: top;\n",
       "    }\n",
       "\n",
       "    .dataframe thead th {\n",
       "        text-align: right;\n",
       "    }\n",
       "</style>\n",
       "<table border=\"1\" class=\"dataframe\">\n",
       "  <thead>\n",
       "    <tr style=\"text-align: right;\">\n",
       "      <th></th>\n",
       "      <th>City</th>\n",
       "      <th>Population</th>\n",
       "      <th>Population2</th>\n",
       "      <th>Violent_crime</th>\n",
       "      <th>Murder_manslaughter</th>\n",
       "      <th>Rape_ver1</th>\n",
       "      <th>Robbery</th>\n",
       "      <th>Aggravated_assault</th>\n",
       "      <th>Property_crime</th>\n",
       "      <th>Burglary</th>\n",
       "      <th>Larceny_theft</th>\n",
       "      <th>auto_theft</th>\n",
       "    </tr>\n",
       "  </thead>\n",
       "  <tbody>\n",
       "    <tr>\n",
       "      <th>0</th>\n",
       "      <td>0</td>\n",
       "      <td>1851</td>\n",
       "      <td>3426201</td>\n",
       "      <td>0</td>\n",
       "      <td>0</td>\n",
       "      <td>0</td>\n",
       "      <td>0</td>\n",
       "      <td>0</td>\n",
       "      <td>11</td>\n",
       "      <td>1</td>\n",
       "      <td>10</td>\n",
       "      <td>0</td>\n",
       "    </tr>\n",
       "    <tr>\n",
       "      <th>1</th>\n",
       "      <td>1</td>\n",
       "      <td>2568</td>\n",
       "      <td>6594624</td>\n",
       "      <td>2</td>\n",
       "      <td>0</td>\n",
       "      <td>0</td>\n",
       "      <td>1</td>\n",
       "      <td>1</td>\n",
       "      <td>49</td>\n",
       "      <td>1</td>\n",
       "      <td>47</td>\n",
       "      <td>1</td>\n",
       "    </tr>\n",
       "    <tr>\n",
       "      <th>2</th>\n",
       "      <td>2</td>\n",
       "      <td>820</td>\n",
       "      <td>672400</td>\n",
       "      <td>0</td>\n",
       "      <td>0</td>\n",
       "      <td>0</td>\n",
       "      <td>0</td>\n",
       "      <td>0</td>\n",
       "      <td>1</td>\n",
       "      <td>0</td>\n",
       "      <td>1</td>\n",
       "      <td>0</td>\n",
       "    </tr>\n",
       "    <tr>\n",
       "      <th>3</th>\n",
       "      <td>3</td>\n",
       "      <td>2842</td>\n",
       "      <td>8076964</td>\n",
       "      <td>1</td>\n",
       "      <td>0</td>\n",
       "      <td>54</td>\n",
       "      <td>0</td>\n",
       "      <td>1</td>\n",
       "      <td>17</td>\n",
       "      <td>0</td>\n",
       "      <td>17</td>\n",
       "      <td>0</td>\n",
       "    </tr>\n",
       "    <tr>\n",
       "      <th>4</th>\n",
       "      <td>4</td>\n",
       "      <td>98595</td>\n",
       "      <td>9720974025</td>\n",
       "      <td>802</td>\n",
       "      <td>8</td>\n",
       "      <td>54</td>\n",
       "      <td>237</td>\n",
       "      <td>503</td>\n",
       "      <td>3888</td>\n",
       "      <td>683</td>\n",
       "      <td>3083</td>\n",
       "      <td>122</td>\n",
       "    </tr>\n",
       "    <tr>\n",
       "      <th>5</th>\n",
       "      <td>5</td>\n",
       "      <td>5872</td>\n",
       "      <td>34480384</td>\n",
       "      <td>26</td>\n",
       "      <td>0</td>\n",
       "      <td>3</td>\n",
       "      <td>2</td>\n",
       "      <td>21</td>\n",
       "      <td>204</td>\n",
       "      <td>41</td>\n",
       "      <td>159</td>\n",
       "      <td>4</td>\n",
       "    </tr>\n",
       "    <tr>\n",
       "      <th>6</th>\n",
       "      <td>6</td>\n",
       "      <td>1107</td>\n",
       "      <td>1225449</td>\n",
       "      <td>0</td>\n",
       "      <td>0</td>\n",
       "      <td>0</td>\n",
       "      <td>0</td>\n",
       "      <td>0</td>\n",
       "      <td>7</td>\n",
       "      <td>2</td>\n",
       "      <td>5</td>\n",
       "      <td>0</td>\n",
       "    </tr>\n",
       "    <tr>\n",
       "      <th>7</th>\n",
       "      <td>7</td>\n",
       "      <td>4032</td>\n",
       "      <td>16257024</td>\n",
       "      <td>11</td>\n",
       "      <td>1</td>\n",
       "      <td>1</td>\n",
       "      <td>0</td>\n",
       "      <td>9</td>\n",
       "      <td>30</td>\n",
       "      <td>6</td>\n",
       "      <td>24</td>\n",
       "      <td>0</td>\n",
       "    </tr>\n",
       "    <tr>\n",
       "      <th>8</th>\n",
       "      <td>8</td>\n",
       "      <td>1723</td>\n",
       "      <td>2968729</td>\n",
       "      <td>1</td>\n",
       "      <td>0</td>\n",
       "      <td>0</td>\n",
       "      <td>0</td>\n",
       "      <td>1</td>\n",
       "      <td>2</td>\n",
       "      <td>2</td>\n",
       "      <td>0</td>\n",
       "      <td>0</td>\n",
       "    </tr>\n",
       "    <tr>\n",
       "      <th>9</th>\n",
       "      <td>9</td>\n",
       "      <td>118860</td>\n",
       "      <td>14127699600</td>\n",
       "      <td>128</td>\n",
       "      <td>1</td>\n",
       "      <td>16</td>\n",
       "      <td>43</td>\n",
       "      <td>68</td>\n",
       "      <td>2066</td>\n",
       "      <td>176</td>\n",
       "      <td>1846</td>\n",
       "      <td>44</td>\n",
       "    </tr>\n",
       "    <tr>\n",
       "      <th>10</th>\n",
       "      <td>10</td>\n",
       "      <td>2250</td>\n",
       "      <td>5062500</td>\n",
       "      <td>0</td>\n",
       "      <td>0</td>\n",
       "      <td>0</td>\n",
       "      <td>0</td>\n",
       "      <td>0</td>\n",
       "      <td>0</td>\n",
       "      <td>0</td>\n",
       "      <td>0</td>\n",
       "      <td>0</td>\n",
       "    </tr>\n",
       "    <tr>\n",
       "      <th>11</th>\n",
       "      <td>11</td>\n",
       "      <td>9509</td>\n",
       "      <td>90421081</td>\n",
       "      <td>12</td>\n",
       "      <td>0</td>\n",
       "      <td>0</td>\n",
       "      <td>11</td>\n",
       "      <td>1</td>\n",
       "      <td>198</td>\n",
       "      <td>10</td>\n",
       "      <td>175</td>\n",
       "      <td>13</td>\n",
       "    </tr>\n",
       "    <tr>\n",
       "      <th>12</th>\n",
       "      <td>12</td>\n",
       "      <td>18099</td>\n",
       "      <td>327573801</td>\n",
       "      <td>27</td>\n",
       "      <td>0</td>\n",
       "      <td>0</td>\n",
       "      <td>15</td>\n",
       "      <td>12</td>\n",
       "      <td>490</td>\n",
       "      <td>107</td>\n",
       "      <td>370</td>\n",
       "      <td>13</td>\n",
       "    </tr>\n",
       "    <tr>\n",
       "      <th>13</th>\n",
       "      <td>13</td>\n",
       "      <td>846</td>\n",
       "      <td>715716</td>\n",
       "      <td>1</td>\n",
       "      <td>0</td>\n",
       "      <td>0</td>\n",
       "      <td>0</td>\n",
       "      <td>1</td>\n",
       "      <td>6</td>\n",
       "      <td>4</td>\n",
       "      <td>2</td>\n",
       "      <td>0</td>\n",
       "    </tr>\n",
       "    <tr>\n",
       "      <th>14</th>\n",
       "      <td>14</td>\n",
       "      <td>2030</td>\n",
       "      <td>4120900</td>\n",
       "      <td>0</td>\n",
       "      <td>0</td>\n",
       "      <td>0</td>\n",
       "      <td>0</td>\n",
       "      <td>0</td>\n",
       "      <td>25</td>\n",
       "      <td>7</td>\n",
       "      <td>18</td>\n",
       "      <td>0</td>\n",
       "    </tr>\n",
       "    <tr>\n",
       "      <th>15</th>\n",
       "      <td>15</td>\n",
       "      <td>4561</td>\n",
       "      <td>20802721</td>\n",
       "      <td>1</td>\n",
       "      <td>0</td>\n",
       "      <td>0</td>\n",
       "      <td>0</td>\n",
       "      <td>1</td>\n",
       "      <td>25</td>\n",
       "      <td>6</td>\n",
       "      <td>19</td>\n",
       "      <td>0</td>\n",
       "    </tr>\n",
       "    <tr>\n",
       "      <th>16</th>\n",
       "      <td>16</td>\n",
       "      <td>656</td>\n",
       "      <td>430336</td>\n",
       "      <td>0</td>\n",
       "      <td>0</td>\n",
       "      <td>0</td>\n",
       "      <td>0</td>\n",
       "      <td>0</td>\n",
       "      <td>6</td>\n",
       "      <td>0</td>\n",
       "      <td>4</td>\n",
       "      <td>2</td>\n",
       "    </tr>\n",
       "    <tr>\n",
       "      <th>17</th>\n",
       "      <td>17</td>\n",
       "      <td>2502</td>\n",
       "      <td>6260004</td>\n",
       "      <td>0</td>\n",
       "      <td>0</td>\n",
       "      <td>0</td>\n",
       "      <td>0</td>\n",
       "      <td>0</td>\n",
       "      <td>12</td>\n",
       "      <td>0</td>\n",
       "      <td>12</td>\n",
       "      <td>0</td>\n",
       "    </tr>\n",
       "    <tr>\n",
       "      <th>18</th>\n",
       "      <td>18</td>\n",
       "      <td>3333</td>\n",
       "      <td>11108889</td>\n",
       "      <td>2</td>\n",
       "      <td>0</td>\n",
       "      <td>0</td>\n",
       "      <td>1</td>\n",
       "      <td>1</td>\n",
       "      <td>14</td>\n",
       "      <td>1</td>\n",
       "      <td>11</td>\n",
       "      <td>2</td>\n",
       "    </tr>\n",
       "    <tr>\n",
       "      <th>19</th>\n",
       "      <td>19</td>\n",
       "      <td>7485</td>\n",
       "      <td>56025225</td>\n",
       "      <td>2</td>\n",
       "      <td>0</td>\n",
       "      <td>1</td>\n",
       "      <td>0</td>\n",
       "      <td>1</td>\n",
       "      <td>65</td>\n",
       "      <td>1</td>\n",
       "      <td>60</td>\n",
       "      <td>4</td>\n",
       "    </tr>\n",
       "    <tr>\n",
       "      <th>20</th>\n",
       "      <td>20</td>\n",
       "      <td>5470</td>\n",
       "      <td>29920900</td>\n",
       "      <td>8</td>\n",
       "      <td>0</td>\n",
       "      <td>0</td>\n",
       "      <td>2</td>\n",
       "      <td>6</td>\n",
       "      <td>73</td>\n",
       "      <td>21</td>\n",
       "      <td>51</td>\n",
       "      <td>1</td>\n",
       "    </tr>\n",
       "    <tr>\n",
       "      <th>21</th>\n",
       "      <td>21</td>\n",
       "      <td>15223</td>\n",
       "      <td>231739729</td>\n",
       "      <td>71</td>\n",
       "      <td>0</td>\n",
       "      <td>17</td>\n",
       "      <td>12</td>\n",
       "      <td>42</td>\n",
       "      <td>599</td>\n",
       "      <td>115</td>\n",
       "      <td>476</td>\n",
       "      <td>8</td>\n",
       "    </tr>\n",
       "    <tr>\n",
       "      <th>22</th>\n",
       "      <td>22</td>\n",
       "      <td>5703</td>\n",
       "      <td>32524209</td>\n",
       "      <td>14</td>\n",
       "      <td>0</td>\n",
       "      <td>3</td>\n",
       "      <td>3</td>\n",
       "      <td>8</td>\n",
       "      <td>148</td>\n",
       "      <td>21</td>\n",
       "      <td>126</td>\n",
       "      <td>1</td>\n",
       "    </tr>\n",
       "    <tr>\n",
       "      <th>23</th>\n",
       "      <td>23</td>\n",
       "      <td>14330</td>\n",
       "      <td>205348900</td>\n",
       "      <td>43</td>\n",
       "      <td>0</td>\n",
       "      <td>3</td>\n",
       "      <td>17</td>\n",
       "      <td>23</td>\n",
       "      <td>245</td>\n",
       "      <td>38</td>\n",
       "      <td>201</td>\n",
       "      <td>6</td>\n",
       "    </tr>\n",
       "    <tr>\n",
       "      <th>24</th>\n",
       "      <td>24</td>\n",
       "      <td>17782</td>\n",
       "      <td>316199524</td>\n",
       "      <td>2</td>\n",
       "      <td>0</td>\n",
       "      <td>1</td>\n",
       "      <td>0</td>\n",
       "      <td>1</td>\n",
       "      <td>123</td>\n",
       "      <td>12</td>\n",
       "      <td>109</td>\n",
       "      <td>2</td>\n",
       "    </tr>\n",
       "    <tr>\n",
       "      <th>25</th>\n",
       "      <td>25</td>\n",
       "      <td>34653</td>\n",
       "      <td>1200830409</td>\n",
       "      <td>34</td>\n",
       "      <td>0</td>\n",
       "      <td>7</td>\n",
       "      <td>6</td>\n",
       "      <td>21</td>\n",
       "      <td>454</td>\n",
       "      <td>58</td>\n",
       "      <td>385</td>\n",
       "      <td>11</td>\n",
       "    </tr>\n",
       "    <tr>\n",
       "      <th>26</th>\n",
       "      <td>26</td>\n",
       "      <td>46229</td>\n",
       "      <td>2137120441</td>\n",
       "      <td>305</td>\n",
       "      <td>1</td>\n",
       "      <td>49</td>\n",
       "      <td>82</td>\n",
       "      <td>173</td>\n",
       "      <td>2048</td>\n",
       "      <td>343</td>\n",
       "      <td>1653</td>\n",
       "      <td>52</td>\n",
       "    </tr>\n",
       "    <tr>\n",
       "      <th>27</th>\n",
       "      <td>27</td>\n",
       "      <td>1392</td>\n",
       "      <td>1937664</td>\n",
       "      <td>0</td>\n",
       "      <td>0</td>\n",
       "      <td>0</td>\n",
       "      <td>0</td>\n",
       "      <td>0</td>\n",
       "      <td>3</td>\n",
       "      <td>1</td>\n",
       "      <td>2</td>\n",
       "      <td>0</td>\n",
       "    </tr>\n",
       "    <tr>\n",
       "      <th>28</th>\n",
       "      <td>28</td>\n",
       "      <td>11960</td>\n",
       "      <td>143041600</td>\n",
       "      <td>8</td>\n",
       "      <td>0</td>\n",
       "      <td>0</td>\n",
       "      <td>2</td>\n",
       "      <td>6</td>\n",
       "      <td>86</td>\n",
       "      <td>18</td>\n",
       "      <td>59</td>\n",
       "      <td>9</td>\n",
       "    </tr>\n",
       "    <tr>\n",
       "      <th>29</th>\n",
       "      <td>29</td>\n",
       "      <td>2321</td>\n",
       "      <td>5387041</td>\n",
       "      <td>0</td>\n",
       "      <td>0</td>\n",
       "      <td>4</td>\n",
       "      <td>0</td>\n",
       "      <td>0</td>\n",
       "      <td>9</td>\n",
       "      <td>3</td>\n",
       "      <td>6</td>\n",
       "      <td>0</td>\n",
       "    </tr>\n",
       "    <tr>\n",
       "      <th>...</th>\n",
       "      <td>...</td>\n",
       "      <td>...</td>\n",
       "      <td>...</td>\n",
       "      <td>...</td>\n",
       "      <td>...</td>\n",
       "      <td>...</td>\n",
       "      <td>...</td>\n",
       "      <td>...</td>\n",
       "      <td>...</td>\n",
       "      <td>...</td>\n",
       "      <td>...</td>\n",
       "      <td>...</td>\n",
       "    </tr>\n",
       "    <tr>\n",
       "      <th>318</th>\n",
       "      <td>316</td>\n",
       "      <td>3602</td>\n",
       "      <td>12974404</td>\n",
       "      <td>2</td>\n",
       "      <td>0</td>\n",
       "      <td>1</td>\n",
       "      <td>0</td>\n",
       "      <td>1</td>\n",
       "      <td>11</td>\n",
       "      <td>2</td>\n",
       "      <td>9</td>\n",
       "      <td>0</td>\n",
       "    </tr>\n",
       "    <tr>\n",
       "      <th>319</th>\n",
       "      <td>319</td>\n",
       "      <td>19991</td>\n",
       "      <td>399640081</td>\n",
       "      <td>8</td>\n",
       "      <td>0</td>\n",
       "      <td>0</td>\n",
       "      <td>2</td>\n",
       "      <td>6</td>\n",
       "      <td>308</td>\n",
       "      <td>61</td>\n",
       "      <td>242</td>\n",
       "      <td>5</td>\n",
       "    </tr>\n",
       "    <tr>\n",
       "      <th>320</th>\n",
       "      <td>320</td>\n",
       "      <td>32586</td>\n",
       "      <td>1061847396</td>\n",
       "      <td>131</td>\n",
       "      <td>0</td>\n",
       "      <td>8</td>\n",
       "      <td>38</td>\n",
       "      <td>85</td>\n",
       "      <td>391</td>\n",
       "      <td>77</td>\n",
       "      <td>303</td>\n",
       "      <td>11</td>\n",
       "    </tr>\n",
       "    <tr>\n",
       "      <th>321</th>\n",
       "      <td>322</td>\n",
       "      <td>6604</td>\n",
       "      <td>43612816</td>\n",
       "      <td>0</td>\n",
       "      <td>0</td>\n",
       "      <td>0</td>\n",
       "      <td>0</td>\n",
       "      <td>0</td>\n",
       "      <td>29</td>\n",
       "      <td>5</td>\n",
       "      <td>23</td>\n",
       "      <td>1</td>\n",
       "    </tr>\n",
       "    <tr>\n",
       "      <th>322</th>\n",
       "      <td>321</td>\n",
       "      <td>1687</td>\n",
       "      <td>2845969</td>\n",
       "      <td>0</td>\n",
       "      <td>0</td>\n",
       "      <td>0</td>\n",
       "      <td>0</td>\n",
       "      <td>0</td>\n",
       "      <td>54</td>\n",
       "      <td>7</td>\n",
       "      <td>47</td>\n",
       "      <td>0</td>\n",
       "    </tr>\n",
       "    <tr>\n",
       "      <th>323</th>\n",
       "      <td>323</td>\n",
       "      <td>2744</td>\n",
       "      <td>7529536</td>\n",
       "      <td>0</td>\n",
       "      <td>0</td>\n",
       "      <td>2</td>\n",
       "      <td>0</td>\n",
       "      <td>0</td>\n",
       "      <td>1</td>\n",
       "      <td>1</td>\n",
       "      <td>0</td>\n",
       "      <td>0</td>\n",
       "    </tr>\n",
       "    <tr>\n",
       "      <th>324</th>\n",
       "      <td>324</td>\n",
       "      <td>15408</td>\n",
       "      <td>237406464</td>\n",
       "      <td>11</td>\n",
       "      <td>0</td>\n",
       "      <td>2</td>\n",
       "      <td>1</td>\n",
       "      <td>8</td>\n",
       "      <td>103</td>\n",
       "      <td>17</td>\n",
       "      <td>81</td>\n",
       "      <td>5</td>\n",
       "    </tr>\n",
       "    <tr>\n",
       "      <th>325</th>\n",
       "      <td>325</td>\n",
       "      <td>10975</td>\n",
       "      <td>120450625</td>\n",
       "      <td>5</td>\n",
       "      <td>1</td>\n",
       "      <td>70</td>\n",
       "      <td>0</td>\n",
       "      <td>4</td>\n",
       "      <td>61</td>\n",
       "      <td>10</td>\n",
       "      <td>50</td>\n",
       "      <td>1</td>\n",
       "    </tr>\n",
       "    <tr>\n",
       "      <th>326</th>\n",
       "      <td>326</td>\n",
       "      <td>144534</td>\n",
       "      <td>20890077156</td>\n",
       "      <td>1164</td>\n",
       "      <td>20</td>\n",
       "      <td>70</td>\n",
       "      <td>406</td>\n",
       "      <td>668</td>\n",
       "      <td>5755</td>\n",
       "      <td>1404</td>\n",
       "      <td>3986</td>\n",
       "      <td>365</td>\n",
       "    </tr>\n",
       "    <tr>\n",
       "      <th>327</th>\n",
       "      <td>327</td>\n",
       "      <td>11531</td>\n",
       "      <td>132963961</td>\n",
       "      <td>6</td>\n",
       "      <td>0</td>\n",
       "      <td>5</td>\n",
       "      <td>3</td>\n",
       "      <td>3</td>\n",
       "      <td>86</td>\n",
       "      <td>20</td>\n",
       "      <td>63</td>\n",
       "      <td>3</td>\n",
       "    </tr>\n",
       "    <tr>\n",
       "      <th>328</th>\n",
       "      <td>328</td>\n",
       "      <td>4979</td>\n",
       "      <td>24790441</td>\n",
       "      <td>13</td>\n",
       "      <td>0</td>\n",
       "      <td>5</td>\n",
       "      <td>0</td>\n",
       "      <td>8</td>\n",
       "      <td>56</td>\n",
       "      <td>13</td>\n",
       "      <td>40</td>\n",
       "      <td>3</td>\n",
       "    </tr>\n",
       "    <tr>\n",
       "      <th>329</th>\n",
       "      <td>330</td>\n",
       "      <td>14958</td>\n",
       "      <td>223741764</td>\n",
       "      <td>21</td>\n",
       "      <td>0</td>\n",
       "      <td>4</td>\n",
       "      <td>3</td>\n",
       "      <td>14</td>\n",
       "      <td>351</td>\n",
       "      <td>40</td>\n",
       "      <td>298</td>\n",
       "      <td>13</td>\n",
       "    </tr>\n",
       "    <tr>\n",
       "      <th>330</th>\n",
       "      <td>329</td>\n",
       "      <td>58077</td>\n",
       "      <td>3372937929</td>\n",
       "      <td>95</td>\n",
       "      <td>1</td>\n",
       "      <td>13</td>\n",
       "      <td>34</td>\n",
       "      <td>47</td>\n",
       "      <td>1015</td>\n",
       "      <td>148</td>\n",
       "      <td>827</td>\n",
       "      <td>40</td>\n",
       "    </tr>\n",
       "    <tr>\n",
       "      <th>331</th>\n",
       "      <td>331</td>\n",
       "      <td>49950</td>\n",
       "      <td>2495002500</td>\n",
       "      <td>350</td>\n",
       "      <td>7</td>\n",
       "      <td>0</td>\n",
       "      <td>110</td>\n",
       "      <td>233</td>\n",
       "      <td>2182</td>\n",
       "      <td>540</td>\n",
       "      <td>1512</td>\n",
       "      <td>130</td>\n",
       "    </tr>\n",
       "    <tr>\n",
       "      <th>332</th>\n",
       "      <td>332</td>\n",
       "      <td>1840</td>\n",
       "      <td>3385600</td>\n",
       "      <td>0</td>\n",
       "      <td>0</td>\n",
       "      <td>0</td>\n",
       "      <td>0</td>\n",
       "      <td>0</td>\n",
       "      <td>55</td>\n",
       "      <td>6</td>\n",
       "      <td>46</td>\n",
       "      <td>3</td>\n",
       "    </tr>\n",
       "    <tr>\n",
       "      <th>333</th>\n",
       "      <td>333</td>\n",
       "      <td>6620</td>\n",
       "      <td>43824400</td>\n",
       "      <td>2</td>\n",
       "      <td>0</td>\n",
       "      <td>4</td>\n",
       "      <td>0</td>\n",
       "      <td>2</td>\n",
       "      <td>45</td>\n",
       "      <td>3</td>\n",
       "      <td>38</td>\n",
       "      <td>4</td>\n",
       "    </tr>\n",
       "    <tr>\n",
       "      <th>334</th>\n",
       "      <td>334</td>\n",
       "      <td>3630</td>\n",
       "      <td>13176900</td>\n",
       "      <td>13</td>\n",
       "      <td>0</td>\n",
       "      <td>4</td>\n",
       "      <td>3</td>\n",
       "      <td>6</td>\n",
       "      <td>114</td>\n",
       "      <td>25</td>\n",
       "      <td>85</td>\n",
       "      <td>4</td>\n",
       "    </tr>\n",
       "    <tr>\n",
       "      <th>335</th>\n",
       "      <td>335</td>\n",
       "      <td>612</td>\n",
       "      <td>374544</td>\n",
       "      <td>0</td>\n",
       "      <td>0</td>\n",
       "      <td>0</td>\n",
       "      <td>0</td>\n",
       "      <td>0</td>\n",
       "      <td>0</td>\n",
       "      <td>0</td>\n",
       "      <td>0</td>\n",
       "      <td>0</td>\n",
       "    </tr>\n",
       "    <tr>\n",
       "      <th>336</th>\n",
       "      <td>336</td>\n",
       "      <td>2987</td>\n",
       "      <td>8922169</td>\n",
       "      <td>2</td>\n",
       "      <td>0</td>\n",
       "      <td>0</td>\n",
       "      <td>1</td>\n",
       "      <td>1</td>\n",
       "      <td>2</td>\n",
       "      <td>0</td>\n",
       "      <td>2</td>\n",
       "      <td>0</td>\n",
       "    </tr>\n",
       "    <tr>\n",
       "      <th>337</th>\n",
       "      <td>337</td>\n",
       "      <td>12112</td>\n",
       "      <td>146700544</td>\n",
       "      <td>15</td>\n",
       "      <td>0</td>\n",
       "      <td>1</td>\n",
       "      <td>4</td>\n",
       "      <td>10</td>\n",
       "      <td>390</td>\n",
       "      <td>22</td>\n",
       "      <td>362</td>\n",
       "      <td>6</td>\n",
       "    </tr>\n",
       "    <tr>\n",
       "      <th>338</th>\n",
       "      <td>338</td>\n",
       "      <td>61702</td>\n",
       "      <td>3807136804</td>\n",
       "      <td>402</td>\n",
       "      <td>6</td>\n",
       "      <td>35</td>\n",
       "      <td>124</td>\n",
       "      <td>237</td>\n",
       "      <td>2366</td>\n",
       "      <td>432</td>\n",
       "      <td>1826</td>\n",
       "      <td>108</td>\n",
       "    </tr>\n",
       "    <tr>\n",
       "      <th>339</th>\n",
       "      <td>339</td>\n",
       "      <td>1166</td>\n",
       "      <td>1359556</td>\n",
       "      <td>1</td>\n",
       "      <td>0</td>\n",
       "      <td>4</td>\n",
       "      <td>0</td>\n",
       "      <td>1</td>\n",
       "      <td>15</td>\n",
       "      <td>2</td>\n",
       "      <td>13</td>\n",
       "      <td>0</td>\n",
       "    </tr>\n",
       "    <tr>\n",
       "      <th>340</th>\n",
       "      <td>340</td>\n",
       "      <td>28019</td>\n",
       "      <td>785064361</td>\n",
       "      <td>11</td>\n",
       "      <td>0</td>\n",
       "      <td>4</td>\n",
       "      <td>1</td>\n",
       "      <td>6</td>\n",
       "      <td>580</td>\n",
       "      <td>38</td>\n",
       "      <td>524</td>\n",
       "      <td>18</td>\n",
       "    </tr>\n",
       "    <tr>\n",
       "      <th>341</th>\n",
       "      <td>341</td>\n",
       "      <td>6847</td>\n",
       "      <td>46881409</td>\n",
       "      <td>9</td>\n",
       "      <td>0</td>\n",
       "      <td>0</td>\n",
       "      <td>0</td>\n",
       "      <td>9</td>\n",
       "      <td>89</td>\n",
       "      <td>10</td>\n",
       "      <td>75</td>\n",
       "      <td>4</td>\n",
       "    </tr>\n",
       "    <tr>\n",
       "      <th>342</th>\n",
       "      <td>342</td>\n",
       "      <td>28211</td>\n",
       "      <td>795860521</td>\n",
       "      <td>43</td>\n",
       "      <td>0</td>\n",
       "      <td>2</td>\n",
       "      <td>19</td>\n",
       "      <td>22</td>\n",
       "      <td>506</td>\n",
       "      <td>59</td>\n",
       "      <td>430</td>\n",
       "      <td>17</td>\n",
       "    </tr>\n",
       "    <tr>\n",
       "      <th>343</th>\n",
       "      <td>343</td>\n",
       "      <td>2980</td>\n",
       "      <td>8880400</td>\n",
       "      <td>10</td>\n",
       "      <td>0</td>\n",
       "      <td>1</td>\n",
       "      <td>1</td>\n",
       "      <td>8</td>\n",
       "      <td>75</td>\n",
       "      <td>15</td>\n",
       "      <td>59</td>\n",
       "      <td>1</td>\n",
       "    </tr>\n",
       "    <tr>\n",
       "      <th>344</th>\n",
       "      <td>344</td>\n",
       "      <td>3397</td>\n",
       "      <td>11539609</td>\n",
       "      <td>5</td>\n",
       "      <td>0</td>\n",
       "      <td>1</td>\n",
       "      <td>0</td>\n",
       "      <td>4</td>\n",
       "      <td>75</td>\n",
       "      <td>6</td>\n",
       "      <td>69</td>\n",
       "      <td>0</td>\n",
       "    </tr>\n",
       "    <tr>\n",
       "      <th>345</th>\n",
       "      <td>345</td>\n",
       "      <td>5788</td>\n",
       "      <td>33500944</td>\n",
       "      <td>2</td>\n",
       "      <td>0</td>\n",
       "      <td>2</td>\n",
       "      <td>0</td>\n",
       "      <td>2</td>\n",
       "      <td>59</td>\n",
       "      <td>5</td>\n",
       "      <td>53</td>\n",
       "      <td>1</td>\n",
       "    </tr>\n",
       "    <tr>\n",
       "      <th>346</th>\n",
       "      <td>346</td>\n",
       "      <td>8398</td>\n",
       "      <td>70526404</td>\n",
       "      <td>1</td>\n",
       "      <td>0</td>\n",
       "      <td>2</td>\n",
       "      <td>1</td>\n",
       "      <td>0</td>\n",
       "      <td>58</td>\n",
       "      <td>14</td>\n",
       "      <td>44</td>\n",
       "      <td>0</td>\n",
       "    </tr>\n",
       "    <tr>\n",
       "      <th>347</th>\n",
       "      <td>347</td>\n",
       "      <td>5185</td>\n",
       "      <td>26884225</td>\n",
       "      <td>13</td>\n",
       "      <td>0</td>\n",
       "      <td>2</td>\n",
       "      <td>1</td>\n",
       "      <td>10</td>\n",
       "      <td>154</td>\n",
       "      <td>22</td>\n",
       "      <td>127</td>\n",
       "      <td>5</td>\n",
       "    </tr>\n",
       "  </tbody>\n",
       "</table>\n",
       "<p>348 rows × 12 columns</p>\n",
       "</div>"
      ],
      "text/plain": [
       "     City Population  Population2 Violent_crime Murder_manslaughter  \\\n",
       "0       0       1851      3426201             0                   0   \n",
       "1       1       2568      6594624             2                   0   \n",
       "2       2        820       672400             0                   0   \n",
       "3       3       2842      8076964             1                   0   \n",
       "4       4      98595   9720974025           802                   8   \n",
       "5       5       5872     34480384            26                   0   \n",
       "6       6       1107      1225449             0                   0   \n",
       "7       7       4032     16257024            11                   1   \n",
       "8       8       1723      2968729             1                   0   \n",
       "9       9     118860  14127699600           128                   1   \n",
       "10     10       2250      5062500             0                   0   \n",
       "11     11       9509     90421081            12                   0   \n",
       "12     12      18099    327573801            27                   0   \n",
       "13     13        846       715716             1                   0   \n",
       "14     14       2030      4120900             0                   0   \n",
       "15     15       4561     20802721             1                   0   \n",
       "16     16        656       430336             0                   0   \n",
       "17     17       2502      6260004             0                   0   \n",
       "18     18       3333     11108889             2                   0   \n",
       "19     19       7485     56025225             2                   0   \n",
       "20     20       5470     29920900             8                   0   \n",
       "21     21      15223    231739729            71                   0   \n",
       "22     22       5703     32524209            14                   0   \n",
       "23     23      14330    205348900            43                   0   \n",
       "24     24      17782    316199524             2                   0   \n",
       "25     25      34653   1200830409            34                   0   \n",
       "26     26      46229   2137120441           305                   1   \n",
       "27     27       1392      1937664             0                   0   \n",
       "28     28      11960    143041600             8                   0   \n",
       "29     29       2321      5387041             0                   0   \n",
       "..    ...        ...          ...           ...                 ...   \n",
       "318   316       3602     12974404             2                   0   \n",
       "319   319      19991    399640081             8                   0   \n",
       "320   320      32586   1061847396           131                   0   \n",
       "321   322       6604     43612816             0                   0   \n",
       "322   321       1687      2845969             0                   0   \n",
       "323   323       2744      7529536             0                   0   \n",
       "324   324      15408    237406464            11                   0   \n",
       "325   325      10975    120450625             5                   1   \n",
       "326   326     144534  20890077156          1164                  20   \n",
       "327   327      11531    132963961             6                   0   \n",
       "328   328       4979     24790441            13                   0   \n",
       "329   330      14958    223741764            21                   0   \n",
       "330   329      58077   3372937929            95                   1   \n",
       "331   331      49950   2495002500           350                   7   \n",
       "332   332       1840      3385600             0                   0   \n",
       "333   333       6620     43824400             2                   0   \n",
       "334   334       3630     13176900            13                   0   \n",
       "335   335        612       374544             0                   0   \n",
       "336   336       2987      8922169             2                   0   \n",
       "337   337      12112    146700544            15                   0   \n",
       "338   338      61702   3807136804           402                   6   \n",
       "339   339       1166      1359556             1                   0   \n",
       "340   340      28019    785064361            11                   0   \n",
       "341   341       6847     46881409             9                   0   \n",
       "342   342      28211    795860521            43                   0   \n",
       "343   343       2980      8880400            10                   0   \n",
       "344   344       3397     11539609             5                   0   \n",
       "345   345       5788     33500944             2                   0   \n",
       "346   346       8398     70526404             1                   0   \n",
       "347   347       5185     26884225            13                   0   \n",
       "\n",
       "     Rape_ver1 Robbery Aggravated_assault Property_crime Burglary  \\\n",
       "0            0       0                  0             11        1   \n",
       "1            0       1                  1             49        1   \n",
       "2            0       0                  0              1        0   \n",
       "3           54       0                  1             17        0   \n",
       "4           54     237                503           3888      683   \n",
       "5            3       2                 21            204       41   \n",
       "6            0       0                  0              7        2   \n",
       "7            1       0                  9             30        6   \n",
       "8            0       0                  1              2        2   \n",
       "9           16      43                 68           2066      176   \n",
       "10           0       0                  0              0        0   \n",
       "11           0      11                  1            198       10   \n",
       "12           0      15                 12            490      107   \n",
       "13           0       0                  1              6        4   \n",
       "14           0       0                  0             25        7   \n",
       "15           0       0                  1             25        6   \n",
       "16           0       0                  0              6        0   \n",
       "17           0       0                  0             12        0   \n",
       "18           0       1                  1             14        1   \n",
       "19           1       0                  1             65        1   \n",
       "20           0       2                  6             73       21   \n",
       "21          17      12                 42            599      115   \n",
       "22           3       3                  8            148       21   \n",
       "23           3      17                 23            245       38   \n",
       "24           1       0                  1            123       12   \n",
       "25           7       6                 21            454       58   \n",
       "26          49      82                173           2048      343   \n",
       "27           0       0                  0              3        1   \n",
       "28           0       2                  6             86       18   \n",
       "29           4       0                  0              9        3   \n",
       "..         ...     ...                ...            ...      ...   \n",
       "318          1       0                  1             11        2   \n",
       "319          0       2                  6            308       61   \n",
       "320          8      38                 85            391       77   \n",
       "321          0       0                  0             29        5   \n",
       "322          0       0                  0             54        7   \n",
       "323          2       0                  0              1        1   \n",
       "324          2       1                  8            103       17   \n",
       "325         70       0                  4             61       10   \n",
       "326         70     406                668           5755     1404   \n",
       "327          5       3                  3             86       20   \n",
       "328          5       0                  8             56       13   \n",
       "329          4       3                 14            351       40   \n",
       "330         13      34                 47           1015      148   \n",
       "331          0     110                233           2182      540   \n",
       "332          0       0                  0             55        6   \n",
       "333          4       0                  2             45        3   \n",
       "334          4       3                  6            114       25   \n",
       "335          0       0                  0              0        0   \n",
       "336          0       1                  1              2        0   \n",
       "337          1       4                 10            390       22   \n",
       "338         35     124                237           2366      432   \n",
       "339          4       0                  1             15        2   \n",
       "340          4       1                  6            580       38   \n",
       "341          0       0                  9             89       10   \n",
       "342          2      19                 22            506       59   \n",
       "343          1       1                  8             75       15   \n",
       "344          1       0                  4             75        6   \n",
       "345          2       0                  2             59        5   \n",
       "346          2       1                  0             58       14   \n",
       "347          2       1                 10            154       22   \n",
       "\n",
       "    Larceny_theft auto_theft  \n",
       "0              10          0  \n",
       "1              47          1  \n",
       "2               1          0  \n",
       "3              17          0  \n",
       "4            3083        122  \n",
       "5             159          4  \n",
       "6               5          0  \n",
       "7              24          0  \n",
       "8               0          0  \n",
       "9            1846         44  \n",
       "10              0          0  \n",
       "11            175         13  \n",
       "12            370         13  \n",
       "13              2          0  \n",
       "14             18          0  \n",
       "15             19          0  \n",
       "16              4          2  \n",
       "17             12          0  \n",
       "18             11          2  \n",
       "19             60          4  \n",
       "20             51          1  \n",
       "21            476          8  \n",
       "22            126          1  \n",
       "23            201          6  \n",
       "24            109          2  \n",
       "25            385         11  \n",
       "26           1653         52  \n",
       "27              2          0  \n",
       "28             59          9  \n",
       "29              6          0  \n",
       "..            ...        ...  \n",
       "318             9          0  \n",
       "319           242          5  \n",
       "320           303         11  \n",
       "321            23          1  \n",
       "322            47          0  \n",
       "323             0          0  \n",
       "324            81          5  \n",
       "325            50          1  \n",
       "326          3986        365  \n",
       "327            63          3  \n",
       "328            40          3  \n",
       "329           298         13  \n",
       "330           827         40  \n",
       "331          1512        130  \n",
       "332            46          3  \n",
       "333            38          4  \n",
       "334            85          4  \n",
       "335             0          0  \n",
       "336             2          0  \n",
       "337           362          6  \n",
       "338          1826        108  \n",
       "339            13          0  \n",
       "340           524         18  \n",
       "341            75          4  \n",
       "342           430         17  \n",
       "343            59          1  \n",
       "344            69          0  \n",
       "345            53          1  \n",
       "346            44          0  \n",
       "347           127          5  \n",
       "\n",
       "[348 rows x 12 columns]"
      ]
     },
     "execution_count": 94,
     "metadata": {},
     "output_type": "execute_result"
    }
   ],
   "source": [
    "clean_dataset2(new_df)"
   ]
  },
  {
   "cell_type": "code",
   "execution_count": 95,
   "metadata": {},
   "outputs": [],
   "source": [
    "new_df = clean_dataset2(new_df)"
   ]
  },
  {
   "cell_type": "code",
   "execution_count": 96,
   "metadata": {},
   "outputs": [
    {
     "name": "stdout",
     "output_type": "stream",
     "text": [
      "<class 'pandas.core.frame.DataFrame'>\n",
      "RangeIndex: 348 entries, 0 to 347\n",
      "Data columns (total 12 columns):\n",
      "City                   348 non-null int16\n",
      "Population             348 non-null object\n",
      "Population2            348 non-null object\n",
      "Violent_crime          348 non-null object\n",
      "Murder_manslaughter    348 non-null object\n",
      "Rape_ver1              348 non-null int64\n",
      "Robbery                348 non-null object\n",
      "Aggravated_assault     348 non-null object\n",
      "Property_crime         348 non-null object\n",
      "Burglary               348 non-null object\n",
      "Larceny_theft          348 non-null object\n",
      "auto_theft             348 non-null object\n",
      "dtypes: int16(1), int64(1), object(10)\n",
      "memory usage: 30.7+ KB\n"
     ]
    }
   ],
   "source": [
    "new_df.info()"
   ]
  },
  {
   "cell_type": "code",
   "execution_count": 97,
   "metadata": {},
   "outputs": [],
   "source": [
    "new_df=pd.DataFrame(new_df.values)\n",
    "new_df.columns = ['City', 'Population', 'Population2', 'Violent_crime',\n",
    "       'Murder_manslaughter', 'Rape_ver2', 'Robbery', 'Aggravated_assault',\n",
    "       'Property_crime', 'Burglary', 'Larceny_theft', 'auto_theft']"
   ]
  },
  {
   "cell_type": "code",
   "execution_count": 98,
   "metadata": {},
   "outputs": [],
   "source": [
    "new_df.fillna(0, inplace=True)"
   ]
  },
  {
   "cell_type": "code",
   "execution_count": 99,
   "metadata": {},
   "outputs": [
    {
     "data": {
      "text/plain": [
       "<matplotlib.axes._subplots.AxesSubplot at 0x1151245f8>"
      ]
     },
     "execution_count": 99,
     "metadata": {},
     "output_type": "execute_result"
    },
    {
     "data": {
      "image/png": "[encoded data removed]",
      "text/plain": [
       "<Figure size 432x288 with 2 Axes>"
      ]
     },
     "metadata": {},
     "output_type": "display_data"
    }
   ],
   "source": [
    "import seaborn as sns\n",
    "#majority of variables are highly correlated\n",
    "sns.heatmap(new_df.corr())"
   ]
  },
  {
   "cell_type": "code",
   "execution_count": 103,
   "metadata": {},
   "outputs": [],
   "source": [
    "new_df['Population2']=new_df.Population**2\n",
    "X = new_df[['Population', 'Population2','Murder_manslaughter', 'Burglary']]\n",
    "y= new_df['Property_crime']"
   ]
  },
  {
   "cell_type": "code",
   "execution_count": 106,
   "metadata": {},
   "outputs": [
    {
     "data": {
      "text/plain": [
       "0.9770234802002591"
      ]
     },
     "execution_count": 106,
     "metadata": {},
     "output_type": "execute_result"
    }
   ],
   "source": [
    "lr = LinearRegression()\n",
    "X_train, X_test, y_train, y_test = train_test_split(X,y)\n",
    "lr.fit(X_train,y_train)\n",
    "lr.score(X_test,y_test)"
   ]
  },
  {
   "cell_type": "code",
   "execution_count": 107,
   "metadata": {},
   "outputs": [
    {
     "data": {
      "text/plain": [
       "array([-0.15684788,  0.02139889,  0.95933578,  0.57432089,  0.88763038,\n",
       "        0.91172849,  0.35592215,  0.24507913,  0.4979362 ,  0.9096079 ])"
      ]
     },
     "execution_count": 107,
     "metadata": {},
     "output_type": "execute_result"
    }
   ],
   "source": [
    "cross_val_score(lr, X_test, y_test, cv=10)"
   ]
  },
  {
   "cell_type": "code",
   "execution_count": 108,
   "metadata": {},
   "outputs": [],
   "source": [
    "# manual grouping of features for pca\n",
    "violent_crimes=['Violent_crime', 'Murder_manslaughter','Rape_ver2', 'Aggravated_assault']\n",
    "\n",
    "thefts=['Burglary', 'Larceny_theft', 'auto_theft']\n",
    "aggr_features=[[violent_crimes, 'violent_crime'], [thefts, 'theft']]\n",
    "\n",
    "#reduce features\n",
    "for group in aggr_features:\n",
    "    means = new_df[group[0]].mean(axis=0)\n",
    "    stds = new_df[group[0]].std(axis=0)\n",
    "    new_df[group[1]]=((new_df[group[0]] - means) / stds).mean(axis=1)"
   ]
  },
  {
   "cell_type": "code",
   "execution_count": 118,
   "metadata": {},
   "outputs": [],
   "source": [
    "X = new_df[['Population','Population2', 'violent_crime', 'theft']]\n",
    "y=new_df['Property_crime']\n"
   ]
  },
  {
   "cell_type": "code",
   "execution_count": 119,
   "metadata": {},
   "outputs": [
    {
     "data": {
      "text/plain": [
       "0.9919031313246237"
      ]
     },
     "execution_count": 119,
     "metadata": {},
     "output_type": "execute_result"
    }
   ],
   "source": [
    "lr = LinearRegression()\n",
    "X_train, X_test, y_train, y_test = train_test_split(X,y)\n",
    "lr.fit(X_train,y_train)\n",
    "lr.score(X_test,y_test)"
   ]
  },
  {
   "cell_type": "code",
   "execution_count": 120,
   "metadata": {},
   "outputs": [
    {
     "data": {
      "text/plain": [
       "array([0.64857064, 0.99517198, 0.91290748, 0.73826657, 0.97909424,\n",
       "       0.9782363 , 0.97027396, 0.6913195 , 0.86315272, 0.79304863])"
      ]
     },
     "execution_count": 120,
     "metadata": {},
     "output_type": "execute_result"
    }
   ],
   "source": [
    "cross_val_score(lr,X_test, y_test, cv=10)"
   ]
  },
  {
   "cell_type": "code",
   "execution_count": 121,
   "metadata": {},
   "outputs": [],
   "source": [
    "from sklearn.linear_model import BayesianRidge\n"
   ]
  },
  {
   "cell_type": "code",
   "execution_count": 72,
   "metadata": {},
   "outputs": [
    {
     "data": {
      "text/plain": [
       "0.6097717170509844"
      ]
     },
     "execution_count": 72,
     "metadata": {},
     "output_type": "execute_result"
    }
   ],
   "source": [
    "# try different model\n",
    "br= BayesianRidge()\n",
    "br.fit(X_train,y_train)\n",
    "br.score(X_test, y_test)"
   ]
  },
  {
   "cell_type": "code",
   "execution_count": 123,
   "metadata": {},
   "outputs": [
    {
     "data": {
      "text/plain": [
       "0.9884293694193169"
      ]
     },
     "execution_count": 123,
     "metadata": {},
     "output_type": "execute_result"
    }
   ],
   "source": [
    "from sklearn.cross_decomposition import PLSRegression\n",
    "\n",
    "plsr = PLSRegression(n_components=3)\n",
    "plsr.fit(X_train,y_train)\n",
    "plsr.score(X_test,y_test)"
   ]
  },
  {
   "cell_type": "code",
   "execution_count": 124,
   "metadata": {},
   "outputs": [
    {
     "data": {
      "text/plain": [
       "array([ 0.88375904, -1.14512024,  0.98251303, -0.90472209,  0.90099203,\n",
       "        0.83729049,  0.98473255,  0.80605153,  0.97097827,  0.97706124,\n",
       "        0.79968823,  0.58162224,  0.78056066,  0.77994044,  0.88264892])"
      ]
     },
     "execution_count": 124,
     "metadata": {},
     "output_type": "execute_result"
    }
   ],
   "source": [
    "cross_val_score(plsr, X_test, y_test, cv=15)"
   ]
  },
  {
   "cell_type": "code",
   "execution_count": 125,
   "metadata": {},
   "outputs": [
    {
     "name": "stdout",
     "output_type": "stream",
     "text": [
      "With 20% Holdout: 0.9884293694193169\n",
      "Testing on Sample: 0.9996504821622333\n"
     ]
    }
   ],
   "source": [
    "print('With 20% Holdout: ' + str(plsr.fit(X_train, y_train).score(X_test, y_test)))\n",
    "print('Testing on Sample: ' + str(plsr.fit(X, y).score(X, y)))"
   ]
  },
  {
   "cell_type": "code",
   "execution_count": null,
   "metadata": {},
   "outputs": [],
   "source": []
  }
 ],
 "metadata": {
  "kernelspec": {
   "display_name": "Python 3",
   "language": "python",
   "name": "python3"
  },
  "language_info": {
   "codemirror_mode": {
    "name": "ipython",
    "version": 3
   },
   "file_extension": ".py",
   "mimetype": "text/x-python",
   "name": "python",
   "nbconvert_exporter": "python",
   "pygments_lexer": "ipython3",
   "version": "3.6.4"
  }
 },
 "nbformat": 4,
 "nbformat_minor": 2
}
