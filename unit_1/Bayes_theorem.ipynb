{
 "cells": [
  {
   "cell_type": "markdown",
   "metadata": {},
   "source": [
    "### P(pos|infected) = 0.98 therefore P(neg|infected) = 0.02\n",
    "\n",
    "### P(pos|not infected) = .1 therefore P(neg|not infected) = .9\n",
    "\n",
    "### P(infected) .005 P(not infected) = .995\n"
   ]
  },
  {
   "cell_type": "code",
   "execution_count": 1,
   "metadata": {},
   "outputs": [
    {
     "name": "stdout",
     "output_type": "stream",
     "text": [
      "Be positive=  0.1044\n"
     ]
    }
   ],
   "source": [
    "# P(positive) = (P(pos|infected)*P(infected)) + (P(pos|not infected)*P(not infected)) \n",
    "\n",
    "print('Be positive= ', ((.98)*(.005))+(.1*.995))"
   ]
  },
  {
   "cell_type": "code",
   "execution_count": 2,
   "metadata": {},
   "outputs": [
    {
     "name": "stdout",
     "output_type": "stream",
     "text": [
      "Correctly diagnose a sufferer of Thripshaw’s= .98\n"
     ]
    }
   ],
   "source": [
    "# answer is P(pos|infected), supplied by given info\n",
    "print(\"Correctly diagnose a sufferer of Thripshaw’s= .98\")"
   ]
  },
  {
   "cell_type": "code",
   "execution_count": 8,
   "metadata": {},
   "outputs": [
    {
     "name": "stdout",
     "output_type": "stream",
     "text": [
      "Correctly diagnose a non-sufferer:  0.9\n"
     ]
    }
   ],
   "source": [
    "\"\"\"Correctly diagnose a non-sufferer == P(neg|not infected) \n",
    "if P(pos|not infected)+P(neg|not infected) == 1, then P(neg|not infected) = 1 - P(pos|not infected)\"\"\"\n",
    "print(\"Correctly diagnose a non-sufferer: \", 1-(.1))"
   ]
  },
  {
   "cell_type": "code",
   "execution_count": 10,
   "metadata": {},
   "outputs": [
    {
     "name": "stdout",
     "output_type": "stream",
     "text": [
      "Misclassify the person=  0.09960000000000001\n"
     ]
    }
   ],
   "source": [
    "'''misclassification = sum of probability of false positive, P(pos| not infected)*P(not infected) and false negative, P(neg|infected)*P(infected))'''\n",
    "print('Misclassify the person= ', (.1*.995)+(.02*.005)) "
   ]
  },
  {
   "cell_type": "code",
   "execution_count": 6,
   "metadata": {},
   "outputs": [],
   "source": [
    "  "
   ]
  },
  {
   "cell_type": "code",
   "execution_count": null,
   "metadata": {},
   "outputs": [],
   "source": [
    "\n"
   ]
  },
  {
   "cell_type": "code",
   "execution_count": null,
   "metadata": {},
   "outputs": [],
   "source": []
  },
  {
   "cell_type": "code",
   "execution_count": null,
   "metadata": {},
   "outputs": [],
   "source": []
  }
 ],
 "metadata": {
  "kernelspec": {
   "display_name": "Python 3",
   "language": "python",
   "name": "python3"
  },
  "language_info": {
   "codemirror_mode": {
    "name": "ipython",
    "version": 3
   },
   "file_extension": ".py",
   "mimetype": "text/x-python",
   "name": "python",
   "nbconvert_exporter": "python",
   "pygments_lexer": "ipython3",
   "version": "3.6.4"
  }
 },
 "nbformat": 4,
 "nbformat_minor": 2
}
