{
 "cells": [
  {
   "cell_type": "code",
   "execution_count": 8,
   "metadata": {},
   "outputs": [],
   "source": [
    "import numpy as np\n",
    "from numpy.random import randint"
   ]
  },
  {
   "cell_type": "code",
   "execution_count": 7,
   "metadata": {},
   "outputs": [],
   "source": [
    "# implement quick sort recursively\n",
    "def partition(par_by, data): # helper func to partition data\n",
    "    \n",
    "    first = [num for num in data if num<par_by]\n",
    "    second = [num for num in data if num==par_by]\n",
    "    third = [num for num in data if num>par_by]\n",
    "    \n",
    "    partitioned_data = first+second+third\n",
    "    \n",
    "    return partitioned_data\n",
    "\n",
    "def quicksort(ls):\n",
    "    if len(ls) <=1:\n",
    "        return ls\n",
    "    else:\n",
    "        pivot =ls[0]\n",
    "        new_ls = partition(pivot, ls)\n",
    "        pivot_idx = new_ls.index(pivot)\n",
    "        left_side = new_ls[:pivot_idx]\n",
    "        right_side = new_ls[pivot_idx+1:]\n",
    "        \n",
    "        return quicksort(left_side) + [pivot] + quicksort(right_side)"
   ]
  },
  {
   "cell_type": "code",
   "execution_count": 27,
   "metadata": {},
   "outputs": [],
   "source": [
    "short_input = randint(0, 1e4, 10)\n",
    "long_input = randint(0,1e4, 10000)"
   ]
  },
  {
   "cell_type": "code",
   "execution_count": 12,
   "metadata": {},
   "outputs": [
    {
     "name": "stdout",
     "output_type": "stream",
     "text": [
      "CPU times: user 20 µs, sys: 1 µs, total: 21 µs\n",
      "Wall time: 26.7 µs\n"
     ]
    },
    {
     "data": {
      "text/plain": [
       "[1018, 2181, 3474, 3496, 6204, 6927, 8236, 8298, 8324, 8708]"
      ]
     },
     "execution_count": 12,
     "metadata": {},
     "output_type": "execute_result"
    }
   ],
   "source": [
    "%time sorted(short_input)"
   ]
  },
  {
   "cell_type": "code",
   "execution_count": 13,
   "metadata": {},
   "outputs": [
    {
     "name": "stdout",
     "output_type": "stream",
     "text": [
      "CPU times: user 85 µs, sys: 1 µs, total: 86 µs\n",
      "Wall time: 93 µs\n"
     ]
    },
    {
     "data": {
      "text/plain": [
       "[1018, 2181, 3474, 3496, 6204, 6927, 8236, 8298, 8324, 8708]"
      ]
     },
     "execution_count": 13,
     "metadata": {},
     "output_type": "execute_result"
    }
   ],
   "source": [
    "%time quicksort(short_input)"
   ]
  },
  {
   "cell_type": "code",
   "execution_count": 23,
   "metadata": {},
   "outputs": [],
   "source": [
    "def bubblesort(ls): # each iteration of bubble sort moves max val to last index, lower stopping range after each iteration\n",
    "    decreasing_index = (x for x in range(len(ls)-1, 0, -1)) \n",
    "    for i in decreasing_index:\n",
    "        for j in range(i):\n",
    "            if ls[j] > ls[j+1]:\n",
    "                ls[j], ls[j+1] = ls[j+1], ls[j]\n",
    "    return ls"
   ]
  },
  {
   "cell_type": "code",
   "execution_count": 28,
   "metadata": {},
   "outputs": [
    {
     "data": {
      "text/plain": [
       "array([5623, 9309, 7872, 8531, 2884,  920, 4081, 5669, 9479, 3059])"
      ]
     },
     "execution_count": 28,
     "metadata": {},
     "output_type": "execute_result"
    }
   ],
   "source": [
    "short_input"
   ]
  },
  {
   "cell_type": "code",
   "execution_count": 29,
   "metadata": {},
   "outputs": [
    {
     "name": "stdout",
     "output_type": "stream",
     "text": [
      "CPU times: user 147 µs, sys: 27 µs, total: 174 µs\n",
      "Wall time: 205 µs\n"
     ]
    },
    {
     "data": {
      "text/plain": [
       "array([ 920, 2884, 3059, 4081, 5623, 5669, 7872, 8531, 9309, 9479])"
      ]
     },
     "execution_count": 29,
     "metadata": {},
     "output_type": "execute_result"
    }
   ],
   "source": [
    "%time bubblesort(short_input)"
   ]
  },
  {
   "cell_type": "code",
   "execution_count": 30,
   "metadata": {},
   "outputs": [
    {
     "name": "stdout",
     "output_type": "stream",
     "text": [
      "CPU times: user 30.6 s, sys: 199 ms, total: 30.8 s\n",
      "Wall time: 31.1 s\n"
     ]
    },
    {
     "data": {
      "text/plain": [
       "array([   0,    1,    2, ..., 9999, 9999, 9999])"
      ]
     },
     "execution_count": 30,
     "metadata": {},
     "output_type": "execute_result"
    }
   ],
   "source": [
    "%time bubblesort(long_input)"
   ]
  },
  {
   "cell_type": "code",
   "execution_count": null,
   "metadata": {},
   "outputs": [],
   "source": []
  }
 ],
 "metadata": {
  "kernelspec": {
   "display_name": "Python 3",
   "language": "python",
   "name": "python3"
  },
  "language_info": {
   "codemirror_mode": {
    "name": "ipython",
    "version": 3
   },
   "file_extension": ".py",
   "mimetype": "text/x-python",
   "name": "python",
   "nbconvert_exporter": "python",
   "pygments_lexer": "ipython3",
   "version": "3.6.4"
  }
 },
 "nbformat": 4,
 "nbformat_minor": 2
}
