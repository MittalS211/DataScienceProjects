{
 "cells": [
  {
   "cell_type": "code",
   "execution_count": 12,
   "metadata": {},
   "outputs": [],
   "source": [
    "import numpy as np\n",
    "import pandas as pd\n",
    "import statistics\n",
    "brady_bunch = [6,8,8,10,11,12,14]"
   ]
  },
  {
   "cell_type": "code",
   "execution_count": 17,
   "metadata": {},
   "outputs": [],
   "source": [
    "def summary_stats(nums):\n",
    "    print('mean: ',np.mean(nums))\n",
    "    print('median: ',(np.median(nums)))\n",
    "    try:\n",
    "        print('mode: ',statistics.mode(nums))\n",
    "    except Exception:\n",
    "        print('mode: no unique mode found')\n",
    "    print('variance: ',np.var(nums))\n",
    "    print('Standard Deviantion: ',np.std(nums, ddof=1))\n",
    "    print('Standard Error: ',np.std(nums, ddof=1)/np.sqrt(len(nums)))"
   ]
  },
  {
   "cell_type": "code",
   "execution_count": 14,
   "metadata": {},
   "outputs": [
    {
     "name": "stdout",
     "output_type": "stream",
     "text": [
      "mean:  9.857142857142858\n",
      "median:  10.0\n",
      "mode:  8\n",
      "variance:  6.408163265306122\n",
      "Standard Deviantion:  2.734262327610589\n",
      "Standard Error:  1.0334540197243192\n"
     ]
    }
   ],
   "source": [
    "summary_stats(brady_bunch)"
   ]
  },
  {
   "cell_type": "markdown",
   "metadata": {},
   "source": [
    "## Central Tendency\n",
    "The median in a better measure of central tendency because a majority of malues are closer or equal to the median vs the mean\n",
    "\n",
    "## Variance\n",
    "Standard Deviantion is a better measure of variance because the upper and lower bounds of the dataset are least impacted by 2 standard deviations of 2.734 from the mean vs a variance of 6.408 from the mean."
   ]
  },
  {
   "cell_type": "code",
   "execution_count": 15,
   "metadata": {},
   "outputs": [
    {
     "name": "stdout",
     "output_type": "stream",
     "text": [
      "mean:  10.0\n",
      "median:  10.0\n",
      "mode:  8\n",
      "variance:  5.428571428571429\n",
      "Standard Deviantion:  2.516611478423583\n",
      "Standard Error:  0.9511897312113418\n"
     ]
    }
   ],
   "source": [
    "# Cindy has a birthday\n",
    "brady_bunch = [7,8,8,10,11,12,14]\n",
    "summary_stats(brady_bunch)"
   ]
  },
  {
   "cell_type": "markdown",
   "metadata": {},
   "source": [
    "## Observations\n",
    "The mean increased is now identical to the median\n",
    "all measures of variance decreased"
   ]
  },
  {
   "cell_type": "code",
   "execution_count": 27,
   "metadata": {},
   "outputs": [
    {
     "name": "stdout",
     "output_type": "stream",
     "text": [
      "mean:  9.0\n",
      "median:  10.0\n",
      "mode: no unique mode found\n",
      "variance:  15.428571428571429\n",
      "Standard Deviantion:  4.242640687119285\n",
      "Standard Error:  1.6035674514745462\n"
     ]
    }
   ],
   "source": [
    "# No one like Cousin Oliver\n",
    "brady_bunch = [7,8,1,10,11,12,14]\n",
    "summary_stats(brady_bunch)"
   ]
  },
  {
   "cell_type": "markdown",
   "metadata": {},
   "source": [
    "## observations\n",
    "mean skewed down due to outlier\n"
   ]
  },
  {
   "cell_type": "code",
   "execution_count": 35,
   "metadata": {},
   "outputs": [
    {
     "data": {
      "text/plain": [
       "0.05"
      ]
     },
     "execution_count": 35,
     "metadata": {},
     "output_type": "execute_result"
    }
   ],
   "source": [
    "# Brady bunch survey\n",
    "survey = [.2,.23,.17,.05]\n",
    "# SciPhi Phanatic 5% irrevelant\n",
    "survey.pop()"
   ]
  },
  {
   "cell_type": "code",
   "execution_count": 39,
   "metadata": {},
   "outputs": [
    {
     "name": "stdout",
     "output_type": "stream",
     "text": [
      "20.000000000000004 %\n"
     ]
    }
   ],
   "source": [
    "#get average of remaining surveys for population estimate\n",
    "print(np.mean(survey)*100,\"%\")"
   ]
  },
  {
   "cell_type": "code",
   "execution_count": null,
   "metadata": {},
   "outputs": [],
   "source": []
  }
 ],
 "metadata": {
  "kernelspec": {
   "display_name": "Python 3",
   "language": "python",
   "name": "python3"
  },
  "language_info": {
   "codemirror_mode": {
    "name": "ipython",
    "version": 3
   },
   "file_extension": ".py",
   "mimetype": "text/x-python",
   "name": "python",
   "nbconvert_exporter": "python",
   "pygments_lexer": "ipython3",
   "version": "3.6.4"
  }
 },
 "nbformat": 4,
 "nbformat_minor": 2
}
